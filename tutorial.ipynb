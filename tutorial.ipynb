{
 "cells": [
  {
   "cell_type": "markdown",
   "metadata": {},
   "source": [
    "# Welcome to crocodile Tutorial\n",
    "\n",
    "In the next 20 minutes, you're expected to master the use of this friendly library. As an outcome, it will save you hundreds of hours in the future while doing mundane daily experiments or tasks, and, your code will be irreducibly succinct.\n",
    "\n",
    "Intrigued? Let's get started\n",
    "\n",
    "First things first, let's ascertain that you have the latest version"
   ]
  },
  {
   "cell_type": "code",
   "execution_count": 1,
   "metadata": {},
   "outputs": [
    {
     "name": "stdout",
     "output_type": "stream",
     "text": [
      "Collecting crocodile\n",
      "  Downloading crocodile-2.0.0-py3-none-any.whl (50 kB)\n",
      "Installing collected packages: crocodile\n",
      "Successfully installed crocodile-2.0.0\n"
     ]
    }
   ],
   "source": [
    "!pip install --upgrade crocodile"
   ]
  },
  {
   "cell_type": "markdown",
   "metadata": {},
   "source": [
    "### Always begin your Python files with this import"
   ]
  },
  {
   "cell_type": "code",
   "execution_count": 2,
   "metadata": {},
   "outputs": [],
   "source": [
    "import crocodile.toolbox as tb"
   ]
  },
  {
   "cell_type": "markdown",
   "metadata": {},
   "source": [
    "# Overview\n",
    "\n",
    "We will be covering the following:\n",
    "    \n",
    "    1- The `P` module (for path).\n",
    "    2- The `L` module (for List).\n",
    "    3- Struct module (for Structure).\n"
   ]
  },
  {
   "cell_type": "markdown",
   "metadata": {},
   "source": [
    "### P Module\n",
    "\n",
    "As a user of Python, you must has experienced the inconvenience of path handling. So there is:\n",
    " * os module\n",
    " * glob module\n",
    " * sys module\n",
    " * shutil module\n",
    " * and lastly, pathlib.\n",
    " * There is probably more that I'm not aware of.\n",
    " \n",
    "Those are extremely verbose and they cost you a lot of time before they give you what you want.\n",
    " \n",
    "##### Solution:\n",
    " \n",
    " `P` Module elegantly solves this by converting mere **path strings** to **objects of type `P`**. The object by itself has *All* the necessary methods that could possibly be linked to it, therefore, no need for any other module to help getting things done.\n",
    " \n",
    " Let's give it a try: "
   ]
  },
  {
   "cell_type": "code",
   "execution_count": 3,
   "metadata": {},
   "outputs": [
    {
     "data": {
      "text/plain": [
       "P: folder\\subfolder\\subsubfolder\\file.txt"
      ]
     },
     "execution_count": 3,
     "metadata": {},
     "output_type": "execute_result"
    }
   ],
   "source": [
    "# wrap any string with this module to instantiate a `P` object.\n",
    "h = tb.P(\"folder/subfolder/subsubfolder/file.txt\")\n",
    "h"
   ]
  },
  {
   "cell_type": "markdown",
   "metadata": {},
   "source": [
    "Now, what can this `h` object offer to us?\n",
    "\n",
    "Let's see some of its powers. Firstly, let's look at indexing.\n",
    "\n",
    "Question:\n",
    "* Doesn't just make sense that `h[0] = \"folder\"` ? "
   ]
  },
  {
   "cell_type": "code",
   "execution_count": 4,
   "metadata": {},
   "outputs": [
    {
     "data": {
      "text/plain": [
       "P: folder"
      ]
     },
     "execution_count": 4,
     "metadata": {},
     "output_type": "execute_result"
    }
   ],
   "source": [
    "h[0]  # Do you know that the old un-elegant way is: h.parent.parent.parent.parent.parent.parent ?"
   ]
  },
  {
   "cell_type": "code",
   "execution_count": 5,
   "metadata": {},
   "outputs": [
    {
     "data": {
      "text/plain": [
       "P: file.txt"
      ]
     },
     "execution_count": 5,
     "metadata": {},
     "output_type": "execute_result"
    }
   ],
   "source": [
    "h[-1]  "
   ]
  },
  {
   "cell_type": "code",
   "execution_count": 6,
   "metadata": {},
   "outputs": [
    {
     "data": {
      "text/plain": [
       "P: subsubfolder\\file.txt"
      ]
     },
     "execution_count": 6,
     "metadata": {},
     "output_type": "execute_result"
    }
   ],
   "source": [
    "h[2:]  # slicing!"
   ]
  },
  {
   "cell_type": "code",
   "execution_count": 7,
   "metadata": {},
   "outputs": [
    {
     "data": {
      "text/plain": [
       "P: folder\\file.txt"
      ]
     },
     "execution_count": 7,
     "metadata": {},
     "output_type": "execute_result"
    }
   ],
   "source": [
    "h[[0, -1]]  # You did not see that coming ! fancy indexing!"
   ]
  },
  {
   "cell_type": "code",
   "execution_count": 16,
   "metadata": {},
   "outputs": [
    {
     "name": "stdout",
     "output_type": "stream",
     "text": [
      "folder\\subfolder\\new_name\\file.txt\n"
     ]
    }
   ],
   "source": [
    "r = h.switch_index(2, \"new_name\")\n",
    "print(r)\n",
    "\n",
    "# TODO: we aim to make it like this:\n",
    "# h[2] = \"haha\"  # we need to implement __setitem__ correctly."
   ]
  },
  {
   "cell_type": "code",
   "execution_count": 22,
   "metadata": {},
   "outputs": [
    {
     "ename": "TypeError",
     "evalue": "unsupported operand type(s) for /: 'NoneType' and 'P'",
     "output_type": "error",
     "traceback": [
      "\u001B[1;31m---------------------------------------------------------------------------\u001B[0m",
      "\u001B[1;31mTypeError\u001B[0m                                 Traceback (most recent call last)",
      "\u001B[1;32m<ipython-input-22-da035817897b>\u001B[0m in \u001B[0;36m<module>\u001B[1;34m\u001B[0m\n\u001B[1;32m----> 1\u001B[1;33m \u001B[0mprint\u001B[0m\u001B[1;33m(\u001B[0m\u001B[0mh\u001B[0m\u001B[1;33m.\u001B[0m\u001B[0msplit\u001B[0m\u001B[1;33m(\u001B[0m\u001B[0mindex\u001B[0m\u001B[1;33m=\u001B[0m\u001B[1;36m2\u001B[0m\u001B[1;33m)\u001B[0m\u001B[1;33m)\u001B[0m  \u001B[1;31m# split by index\u001B[0m\u001B[1;33m\u001B[0m\u001B[1;33m\u001B[0m\u001B[0m\n\u001B[0m\u001B[0;32m      2\u001B[0m \u001B[0mprint\u001B[0m\u001B[1;33m(\u001B[0m\u001B[0mh\u001B[0m\u001B[1;33m.\u001B[0m\u001B[0msplit\u001B[0m\u001B[1;33m(\u001B[0m\u001B[0mat\u001B[0m\u001B[1;33m=\u001B[0m\u001B[1;34m\"subfolder\"\u001B[0m\u001B[1;33m)\u001B[0m\u001B[1;33m)\u001B[0m  \u001B[1;31m# split by directory name\u001B[0m\u001B[1;33m\u001B[0m\u001B[1;33m\u001B[0m\u001B[0m\n",
      "\u001B[1;32mC:\\ProgramData\\Anaconda3\\lib\\site-packages\\crocodile\\toolbox.py\u001B[0m in \u001B[0;36msplit\u001B[1;34m(self, at, index, sep)\u001B[0m\n\u001B[0;32m    222\u001B[0m             \u001B[1;32mpass\u001B[0m  \u001B[1;31m# neither of the portions get the sperator appended to it.\u001B[0m\u001B[1;33m\u001B[0m\u001B[1;33m\u001B[0m\u001B[0m\n\u001B[0;32m    223\u001B[0m         \u001B[1;32melif\u001B[0m \u001B[0msep\u001B[0m \u001B[1;33m==\u001B[0m \u001B[1;36m1\u001B[0m\u001B[1;33m:\u001B[0m  \u001B[1;31m# append it to right portion\u001B[0m\u001B[1;33m\u001B[0m\u001B[1;33m\u001B[0m\u001B[0m\n\u001B[1;32m--> 224\u001B[1;33m             \u001B[0mtwo\u001B[0m \u001B[1;33m=\u001B[0m \u001B[0mat\u001B[0m \u001B[1;33m/\u001B[0m \u001B[0mtwo\u001B[0m\u001B[1;33m\u001B[0m\u001B[1;33m\u001B[0m\u001B[0m\n\u001B[0m\u001B[0;32m    225\u001B[0m         \u001B[1;32melif\u001B[0m \u001B[0msep\u001B[0m \u001B[1;33m==\u001B[0m \u001B[1;33m-\u001B[0m\u001B[1;36m1\u001B[0m\u001B[1;33m:\u001B[0m  \u001B[1;31m# append it to left portion.\u001B[0m\u001B[1;33m\u001B[0m\u001B[1;33m\u001B[0m\u001B[0m\n\u001B[0;32m    226\u001B[0m             \u001B[0mone\u001B[0m \u001B[1;33m=\u001B[0m \u001B[0mone\u001B[0m \u001B[1;33m/\u001B[0m \u001B[0mat\u001B[0m\u001B[1;33m\u001B[0m\u001B[1;33m\u001B[0m\u001B[0m\n",
      "\u001B[1;31mTypeError\u001B[0m: unsupported operand type(s) for /: 'NoneType' and 'P'"
     ]
    }
   ],
   "source": [
    "print(h.split(index=2))  # split by index\n",
    "print(h.split(at=\"subfolder\"))  # split by directory name"
   ]
  },
  {
   "cell_type": "code",
   "execution_count": 24,
   "metadata": {},
   "outputs": [
    {
     "data": {
      "text/plain": [
       "['folder/', '/sub', '/file.txt']"
      ]
     },
     "execution_count": 24,
     "metadata": {},
     "output_type": "execute_result"
    }
   ],
   "source": [
    "\"folder/subfolder/subsubfolder/file.txt\".split(\"subfolder\")"
   ]
  },
  {
   "cell_type": "markdown",
   "metadata": {},
   "source": [
    "But wait, this path, doesn't even exist!!\n",
    "okay, let's create it\n"
   ]
  },
  {
   "cell_type": "code",
   "execution_count": 11,
   "metadata": {},
   "outputs": [
    {
     "name": "stdout",
     "output_type": "stream",
     "text": [
      "True\n"
     ]
    }
   ],
   "source": [
    "h.create()\n",
    "print(h.exists())"
   ]
  },
  {
   "cell_type": "markdown",
   "metadata": {},
   "source": [
    "If you like the good old methods that provide you with safeguards and checks when creating, then, they're all there. \n",
    "\n",
    "```\n",
    "When developed, the library **never** overrides a method that was shipped with `pathlib.Path`\n",
    "```\n"
   ]
  },
  {
   "cell_type": "code",
   "execution_count": 12,
   "metadata": {},
   "outputs": [
    {
     "ename": "FileExistsError",
     "evalue": "[Errno 17] File exists: 'folder/subfolder/subsubfolder/file.txt'",
     "output_type": "error",
     "traceback": [
      "\u001B[0;31m---------------------------------------------------------------------------\u001B[0m",
      "\u001B[0;31mFileExistsError\u001B[0m                           Traceback (most recent call last)",
      "\u001B[0;32m<ipython-input-12-708a966e6780>\u001B[0m in \u001B[0;36m<module>\u001B[0;34m\u001B[0m\n\u001B[0;32m----> 1\u001B[0;31m \u001B[0mh\u001B[0m\u001B[0;34m.\u001B[0m\u001B[0mmkdir\u001B[0m\u001B[0;34m(\u001B[0m\u001B[0;34m)\u001B[0m\u001B[0;34m\u001B[0m\u001B[0;34m\u001B[0m\u001B[0m\n\u001B[0m\u001B[1;32m      2\u001B[0m \u001B[0;34m\u001B[0m\u001B[0m\n",
      "\u001B[0;32m~/anaconda3/envs/myenv/lib/python3.8/pathlib.py\u001B[0m in \u001B[0;36mmkdir\u001B[0;34m(self, mode, parents, exist_ok)\u001B[0m\n\u001B[1;32m   1282\u001B[0m             \u001B[0mself\u001B[0m\u001B[0;34m.\u001B[0m\u001B[0m_raise_closed\u001B[0m\u001B[0;34m(\u001B[0m\u001B[0;34m)\u001B[0m\u001B[0;34m\u001B[0m\u001B[0;34m\u001B[0m\u001B[0m\n\u001B[1;32m   1283\u001B[0m         \u001B[0;32mtry\u001B[0m\u001B[0;34m:\u001B[0m\u001B[0;34m\u001B[0m\u001B[0;34m\u001B[0m\u001B[0m\n\u001B[0;32m-> 1284\u001B[0;31m             \u001B[0mself\u001B[0m\u001B[0;34m.\u001B[0m\u001B[0m_accessor\u001B[0m\u001B[0;34m.\u001B[0m\u001B[0mmkdir\u001B[0m\u001B[0;34m(\u001B[0m\u001B[0mself\u001B[0m\u001B[0;34m,\u001B[0m \u001B[0mmode\u001B[0m\u001B[0;34m)\u001B[0m\u001B[0;34m\u001B[0m\u001B[0;34m\u001B[0m\u001B[0m\n\u001B[0m\u001B[1;32m   1285\u001B[0m         \u001B[0;32mexcept\u001B[0m \u001B[0mFileNotFoundError\u001B[0m\u001B[0;34m:\u001B[0m\u001B[0;34m\u001B[0m\u001B[0;34m\u001B[0m\u001B[0m\n\u001B[1;32m   1286\u001B[0m             \u001B[0;32mif\u001B[0m \u001B[0;32mnot\u001B[0m \u001B[0mparents\u001B[0m \u001B[0;32mor\u001B[0m \u001B[0mself\u001B[0m\u001B[0;34m.\u001B[0m\u001B[0mparent\u001B[0m \u001B[0;34m==\u001B[0m \u001B[0mself\u001B[0m\u001B[0;34m:\u001B[0m\u001B[0;34m\u001B[0m\u001B[0;34m\u001B[0m\u001B[0m\n",
      "\u001B[0;31mFileExistsError\u001B[0m: [Errno 17] File exists: 'folder/subfolder/subsubfolder/file.txt'"
     ]
    }
   ],
   "source": [
    "h.mkdir()"
   ]
  },
  {
   "cell_type": "markdown",
   "metadata": {},
   "source": [
    "Do you like that error above? There you go. Thats the good old `mkdir`"
   ]
  },
  {
   "cell_type": "markdown",
   "metadata": {},
   "source": [
    "In a similar fashion you will find the following:\n",
    "\n",
    "* `delete` will give easy time compared to the existing `unlink` and `rmdir` and other methods.\n",
    "  This will simply **delete**, no matter what, is it a folder? is it a file? is it empty if it is a folder?\n",
    "    don't worry about anything. Just delete\n",
    "    \n",
    "    * There is also `send2trash` from the famous `send2trash` module which sends files to recycle bin.\n",
    "        \n",
    "* `create` is an easy way to do `mkdir` doesn't compain about existence and always creates the childers and parents required.\n",
    "\n",
    "* `search` is an powerful and easy form of `glob` which still exists."
   ]
  },
  {
   "cell_type": "markdown",
   "metadata": {},
   "source": [
    "\n",
    "If you're used to `glob`, it is available as a method, otherwise you can see the `search` method. It takes a minute to learn what it does, so we content ourselves here by just inspecting its docstring"
   ]
  },
  {
   "cell_type": "code",
   "execution_count": 25,
   "metadata": {},
   "outputs": [],
   "source": [
    "? tb.P.search"
   ]
  },
  {
   "cell_type": "code",
   "execution_count": 27,
   "metadata": {},
   "outputs": [
    {
     "name": "stdout",
     "output_type": "stream",
     "text": [
      "folder\\subfolder\\subsubfolder\\file_new\n"
     ]
    }
   ],
   "source": [
    "## Overloading operations \n",
    "# plus symbol: acts like plus for strings, i.e. concatenation.\n",
    "print(h + \"_new\")\n"
   ]
  },
  {
   "cell_type": "code",
   "execution_count": 29,
   "metadata": {},
   "outputs": [
    {
     "data": {
      "text/plain": [
       "P: folder\\subfolder\\subsubfolder\\file.txt\\haha"
      ]
     },
     "execution_count": 29,
     "metadata": {},
     "output_type": "execute_result"
    }
   ],
   "source": [
    "# Forward slash OPERATOR: joins paths\n",
    "r = h / \"haha\"\n",
    "# Note: this is not the same as the naive \"/\" concatenation which is platform-dependent\n",
    "r = h + \"/\" + \"haha\"\n",
    "# it is actually the same as \n",
    "h.joinpath(\"haha\")"
   ]
  },
  {
   "cell_type": "code",
   "execution_count": 30,
   "metadata": {},
   "outputs": [
    {
     "name": "stdout",
     "output_type": "stream",
     "text": [
      "folder\\subfolder\\subsubfolder\\this_is_a_prefix_file.txt\n",
      "folder\\subfolder\\subsubfolder\\file_this_come_after_name_but_before_suffix.txt\n"
     ]
    }
   ],
   "source": [
    "# Some nifty methods for creating versions of the same file\n",
    "print(h.prepend(\"this_is_a_prefix_\"))\n",
    "print(h.append(\"_this_come_after_name_but_before_suffix\"))\n",
    "# Incredibly useful when creating a variant of an existing file."
   ]
  },
  {
   "cell_type": "code",
   "execution_count": null,
   "metadata": {},
   "outputs": [],
   "source": []
  },
  {
   "cell_type": "markdown",
   "metadata": {},
   "source": [
    "### Conclusion \n",
    "\n",
    "Have a looksee at the full list of metods:\n",
    "Basically you have comprehensive set of methods to do any of:\n",
    "\n",
    "* Path manipulation.\n",
    "* Searching directories.\n",
    "* Getting files and folders specs, e.g. size and time etc.\n",
    "* File manangement capabilities, e.g. delete, copy, compression of files and folders with one line, to anywhere.\n",
    "\n",
    "Spend the next 30 seconds to inspect the names of the methods, and they will spring to your mind whenever you need them later. Always remember that there is a method to do what you want in one line. If not, and you think it worth a method, please suggest it on Github.\n",
    "\n",
    "#### Note 1: if there are any modules out there that do not understand this Path object, then you can easily convert back to the string with ``str(h)`` or ``h.string`` when needed, on the fly, as you pass the parameter.\n",
    "\n",
    "#### Note 2: The forward slash \"/\" works nicely on all platforms, so use it if writing **path string** manually. \n"
   ]
  },
  {
   "cell_type": "code",
   "execution_count": 31,
   "metadata": {},
   "outputs": [
    {
     "data": {
      "text/plain": [
       "['absolute',\n",
       " 'absolute_from',\n",
       " 'anchor',\n",
       " 'append',\n",
       " 'append_time_stamp',\n",
       " 'as_posix',\n",
       " 'as_unix',\n",
       " 'as_uri',\n",
       " 'browse',\n",
       " 'chmod',\n",
       " 'clean',\n",
       " 'compress',\n",
       " 'copy',\n",
       " 'create',\n",
       " 'cwd',\n",
       " 'decompress',\n",
       " 'delete',\n",
       " 'drive',\n",
       " 'evalstr',\n",
       " 'exists',\n",
       " 'expanduser',\n",
       " 'explore',\n",
       " 'find',\n",
       " 'from_saved',\n",
       " 'get_attributes',\n",
       " 'get_num',\n",
       " 'randstr',\n",
       " 'glob',\n",
       " 'group',\n",
       " 'home',\n",
       " 'is_absolute',\n",
       " 'is_block_device',\n",
       " 'is_char_device',\n",
       " 'is_dir',\n",
       " 'is_fifo',\n",
       " 'is_file',\n",
       " 'is_mount',\n",
       " 'is_reserved',\n",
       " 'is_socket',\n",
       " 'is_symlink',\n",
       " 'iterdir',\n",
       " 'joinpath',\n",
       " 'lchmod',\n",
       " 'len',\n",
       " 'link_to',\n",
       " 'listdir',\n",
       " 'lstat',\n",
       " 'make_valid_filename',\n",
       " 'make_valid_filename_',\n",
       " 'match',\n",
       " 'mkdir',\n",
       " 'move',\n",
       " 'name',\n",
       " 'open',\n",
       " 'owner',\n",
       " 'parent',\n",
       " 'parents',\n",
       " 'parts',\n",
       " 'prepend',\n",
       " 'read_bytes',\n",
       " 'read_text',\n",
       " 'readit',\n",
       " 'relative_to',\n",
       " 'rename',\n",
       " 'renameit',\n",
       " 'replace',\n",
       " 'resolve',\n",
       " 'rglob',\n",
       " 'rmdir',\n",
       " 'root',\n",
       " 'samefile',\n",
       " 'save_json',\n",
       " 'save_mat',\n",
       " 'save_npy',\n",
       " 'save_pickle',\n",
       " 'search',\n",
       " 'send2trash',\n",
       " 'size',\n",
       " 'split',\n",
       " 'stat',\n",
       " 'stem',\n",
       " 'string',\n",
       " 'suffix',\n",
       " 'suffixes',\n",
       " 'switch',\n",
       " 'switch_index',\n",
       " 'symlink_to',\n",
       " 'time',\n",
       " 'tmp',\n",
       " 'touch',\n",
       " 'trunk',\n",
       " 'unlink',\n",
       " 'unzip',\n",
       " 'with_name',\n",
       " 'with_suffix',\n",
       " 'write_bytes',\n",
       " 'write_text',\n",
       " 'zip']"
      ]
     },
     "execution_count": 31,
     "metadata": {},
     "output_type": "execute_result"
    }
   ],
   "source": [
    "h.get_attributes()"
   ]
  },
  {
   "cell_type": "markdown",
   "metadata": {},
   "source": [
    "Last but not least, there is: `tb.P.tmp` and its alias `tb.tmp`, an exredibly useful thingy to store temporary files conveniently outside your current coding directory. It creates a folder called `tmp_results` in your home directory. so you can put your results and files there temprarily."
   ]
  },
  {
   "cell_type": "code",
   "execution_count": 32,
   "metadata": {},
   "outputs": [
    {
     "name": "stdout",
     "output_type": "stream",
     "text": [
      "C:\\Users\\Alex\\tmp_results\n"
     ]
    }
   ],
   "source": [
    "print(tb.tmp())"
   ]
  },
  {
   "cell_type": "code",
   "execution_count": 33,
   "metadata": {},
   "outputs": [
    {
     "data": {
      "text/plain": [
       "43"
      ]
     },
     "execution_count": 33,
     "metadata": {},
     "output_type": "execute_result"
    }
   ],
   "source": [
    "string = \"This is a string to be saved in a text file\"\n",
    "\n",
    "(tb.tmp() / \"txtfile.txt\").write_text(string)"
   ]
  },
  {
   "cell_type": "markdown",
   "metadata": {},
   "source": [
    "Now let's inspect this directory with our computer file explorer.\n",
    "\n",
    "Did you see the file?"
   ]
  },
  {
   "cell_type": "code",
   "execution_count": 35,
   "metadata": {},
   "outputs": [],
   "source": [
    "tb.tmp().explore()  # .explore is a method of `P`, it opens the files and directories using system defaults.\n",
    "# e.g. if you have an image path, you can open it with your default system image viewer with this method."
   ]
  },
  {
   "cell_type": "code",
   "execution_count": null,
   "metadata": {},
   "outputs": [],
   "source": []
  },
  {
   "cell_type": "code",
   "execution_count": null,
   "metadata": {},
   "outputs": [],
   "source": []
  },
  {
   "cell_type": "markdown",
   "metadata": {},
   "source": [
    "# The Struct Module\n",
    "\n",
    "This offers a very convenient way to keep bits and sundry items in a little container with easy to use synatx. More specifically, it extends dict such that it enables accessing items using both dot notation and keys.\n",
    "\n",
    "Let's give it a try:"
   ]
  },
  {
   "cell_type": "code",
   "execution_count": 36,
   "metadata": {},
   "outputs": [
    {
     "data": {
      "text/plain": [
       "True"
      ]
     },
     "execution_count": 36,
     "metadata": {},
     "output_type": "execute_result"
    }
   ],
   "source": [
    "x = tb.Struct(a=2, b=3)  \n",
    "\n",
    "x.a == x['a']"
   ]
  },
  {
   "cell_type": "markdown",
   "metadata": {},
   "source": [
    "## Save Methods\n",
    "\n",
    "Almost certainly, you want to save your hyperparameters to reuse them somewhere else or later, so let's do that"
   ]
  },
  {
   "cell_type": "code",
   "execution_count": 37,
   "metadata": {},
   "outputs": [
    {
     "data": {
      "text/plain": [
       "Struct: [a, b, ]"
      ]
     },
     "execution_count": 37,
     "metadata": {},
     "output_type": "execute_result"
    }
   ],
   "source": [
    "x.save_json(tb.tmp() / \"my_config.json\")"
   ]
  },
  {
   "cell_type": "markdown",
   "metadata": {},
   "source": [
    "Guess what? there's more:\n",
    "\n",
    "* ``save_json``  Excellent for Config files as it provides human readable format.\n",
    "* ``save_npy``  Excellent for numerical data.\n",
    "* ``save_pickle``  Generic.\n",
    "* ``save_mat``  For passing data to Matlab animals.\n",
    "\n",
    "Guess what?\n",
    "\n",
    "These methods are available for all classes, `List`, `Struct` and even `P`. What's more? Well, you can equip all of your own **existing** classes with these capabilities by simply adding to the their inheritance one word ``tb.Base``.\n",
    "\n",
    "Later, to load up anything, you run the class method `from_saved` from any class and pass the path."
   ]
  },
  {
   "cell_type": "markdown",
   "metadata": {},
   "source": [
    "Do you miss the dict? or do you have a class that only understand dict objects?\n",
    "You can convert back to dict on the fly with `x.dict` `x.__dict__`"
   ]
  },
  {
   "cell_type": "code",
   "execution_count": 38,
   "metadata": {},
   "outputs": [
    {
     "data": {
      "text/plain": [
       "{'a': 2, 'b': 3}"
      ]
     },
     "execution_count": 38,
     "metadata": {},
     "output_type": "execute_result"
    }
   ],
   "source": [
    "x.dict"
   ]
  },
  {
   "cell_type": "code",
   "execution_count": 39,
   "metadata": {},
   "outputs": [
    {
     "name": "stdout",
     "output_type": "stream",
     "text": [
      "Structure, with following entries:\n",
      "Key                    Item Type                    Item Details\n",
      "---                    ---------                    ------------\n",
      "a                      int                          2\n",
      "b                      int                          3\n",
      "\n"
     ]
    }
   ],
   "source": [
    "x.print()"
   ]
  },
  {
   "cell_type": "code",
   "execution_count": null,
   "metadata": {},
   "outputs": [],
   "source": []
  },
  {
   "cell_type": "markdown",
   "metadata": {},
   "source": [
    "# The List Module\n",
    "\n",
    "``tb.List`` or its alias `tb.L` offers a class with a single attribute named `list`, which is a Python `list`. The class gives an enhanced Javascript functionality of `toEach` method of arrays.\n",
    "\n",
    "*Use this class whenever you have objects of the same type and you want to containerize them.*"
   ]
  },
  {
   "cell_type": "code",
   "execution_count": 40,
   "metadata": {},
   "outputs": [],
   "source": [
    "a = tb.L([1, 2., 3.2])"
   ]
  },
  {
   "cell_type": "code",
   "execution_count": 42,
   "metadata": {},
   "outputs": [
    {
     "name": "stdout",
     "output_type": "stream",
     "text": [
      " 0- 1 \n",
      " 1- 2.0 \n",
      " 2- 3.2 \n"
     ]
    }
   ],
   "source": [
    "a.print()"
   ]
  },
  {
   "cell_type": "markdown",
   "metadata": {},
   "source": [
    "##### let's do some implicit for loops"
   ]
  },
  {
   "cell_type": "code",
   "execution_count": 44,
   "metadata": {},
   "outputs": [
    {
     "name": "stdout",
     "output_type": "stream",
     "text": [
      " 0- 1 \n",
      " 1- 2 \n",
      " 2- 3 \n"
     ]
    }
   ],
   "source": [
    "a.apply(int).print()  # this is like .toEach() in JS arrays, but it is even better."
   ]
  },
  {
   "cell_type": "markdown",
   "metadata": {},
   "source": [
    "### Let's do some heavy lifting...\n",
    "Did you know that: search results returned by `P` object are more `P` objects containerized in `List` object?\n",
    "\n",
    "\n",
    "This is too much power! `L` and `P` are working together!!"
   ]
  },
  {
   "cell_type": "code",
   "execution_count": 45,
   "metadata": {},
   "outputs": [
    {
     "name": "stdout",
     "output_type": "stream",
     "text": [
      "<class 'crocodile.toolbox.List'>\n"
     ]
    }
   ],
   "source": [
    "results = tb.P.home().search(\"*\")\n",
    "print(type(results))  # it is a `List` Object!"
   ]
  },
  {
   "cell_type": "code",
   "execution_count": 48,
   "metadata": {},
   "outputs": [
    {
     "data": {
      "text/plain": [
       "List object with 37 elements. One example of those elements: \n",
       "P: C:\\Users\\Alex\\3D Objects"
      ]
     },
     "execution_count": 48,
     "metadata": {},
     "output_type": "execute_result"
    }
   ],
   "source": [
    "results"
   ]
  },
  {
   "cell_type": "code",
   "execution_count": null,
   "metadata": {},
   "outputs": [],
   "source": [
    "results.print()  # nice print function if you did not like the __repr__ method which is very succinct."
   ]
  },
  {
   "cell_type": "code",
   "execution_count": 49,
   "metadata": {},
   "outputs": [
    {
     "data": {
      "text/plain": [
       "List object with 37 elements. One example of those elements: \n",
       "datetime.datetime(2020, 12, 9, 12, 12, 16, 990216)"
      ]
     },
     "execution_count": 49,
     "metadata": {},
     "output_type": "execute_result"
    }
   ],
   "source": [
    "results.time()"
   ]
  },
  {
   "cell_type": "markdown",
   "metadata": {},
   "source": [
    "Wait: How did that happen?\n",
    "\n",
    "`time` is a method of `P` that tells what time the file was created.\n",
    "\n",
    "However, the method was run against a `List` object, but this internally called in a for loop over the individual items.\n",
    "\n",
    "In other words, the above is short for `results.apply(lambda x: x.time())`\n"
   ]
  },
  {
   "cell_type": "markdown",
   "metadata": {},
   "source": [
    "## Object Modifications\n",
    "\n",
    "You can manipulate the objects containerized in `L`. The result returned is another `L` which encapsulates the outcome of modification or whatever function applied to the objects, like so:"
   ]
  },
  {
   "cell_type": "code",
   "execution_count": 50,
   "metadata": {},
   "outputs": [
    {
     "data": {
      "text/plain": [
       "List object with 37 elements. One example of those elements: \n",
       "P: Users\\Alex"
      ]
     },
     "execution_count": 50,
     "metadata": {},
     "output_type": "execute_result"
    }
   ],
   "source": [
    "results.apply(lambda x: x[1:3])"
   ]
  },
  {
   "cell_type": "code",
   "execution_count": null,
   "metadata": {},
   "outputs": [],
   "source": []
  },
  {
   "cell_type": "markdown",
   "metadata": {},
   "source": [
    "### TEST!\n",
    "\n",
    "Do you reckon that you're now on top of the library?\n",
    "\n",
    "Yes?\n",
    "\n",
    "Put that assertion to test!\n",
    "\n",
    "To calculate how many lines of code are in `crocodile` so far, we run this"
   ]
  },
  {
   "cell_type": "code",
   "execution_count": 53,
   "metadata": {},
   "outputs": [
    {
     "data": {
      "text/plain": [
       "4275"
      ]
     },
     "execution_count": 53,
     "metadata": {},
     "output_type": "execute_result"
    }
   ],
   "source": [
    "tb.P(tb.__file__).parent.search(\"*.py\").read_text().split(\"\\n\").apply(len).to_numpy().sum()"
   ]
  },
  {
   "cell_type": "markdown",
   "metadata": {},
   "source": [
    "Is it obvious to you what happened there?\n",
    "\n",
    "**Can you write more one-liners like that?**"
   ]
  },
  {
   "cell_type": "code",
   "execution_count": null,
   "metadata": {},
   "outputs": [],
   "source": []
  }
 ],
 "metadata": {
  "kernelspec": {
   "display_name": "Python 3 (ipykernel)",
   "language": "python",
   "name": "python3"
  },
  "language_info": {
   "codemirror_mode": {
    "name": "ipython",
    "version": 3
   },
   "file_extension": ".py",
   "mimetype": "text/x-python",
   "name": "python",
   "nbconvert_exporter": "python",
   "pygments_lexer": "ipython3",
   "version": "3.9.12"
  }
 },
 "nbformat": 4,
 "nbformat_minor": 4
}