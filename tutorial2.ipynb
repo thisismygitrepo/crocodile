{
 "cells": [
  {
   "cell_type": "code",
   "execution_count": 1,
   "id": "d437f0d8-ba81-48fe-98a1-fe8dd00665d3",
   "metadata": {},
   "outputs": [],
   "source": [
    "\n",
    "from crocodile.file_management import *"
   ]
  },
  {
   "cell_type": "code",
   "execution_count": null,
   "id": "5be96ea3-c647-4f16-8111-e00f1ea0b70e",
   "metadata": {},
   "outputs": [],
   "source": []
  },
  {
   "cell_type": "markdown",
   "id": "7bc227e1-b172-4020-88c0-5734cc73d90e",
   "metadata": {},
   "source": [
    "# Security\n",
    "\n",
    "* in `pwd2key`:\n",
    "   Adding salt and iterations to the password. The salt and iteration numbers will be stored explicitly with the final encrypted message, i.e. known publicly. The benefit is that they makes trying very hard. The machinery below that produces the final key is very expensive (as large as iteration)\n",
    "\n",
    "* In `encrypt`:\n",
    "    \"\"\"Encryption Tips:\n",
    "    * Be careful of key being stored unintendedly in console or terminal history, e.g. don't use IPython.\n",
    "    * It behoves you to try decrypting it to err on the side of safety.\n",
    "    * Don't forget to delete OR store key file safely.\n",
    "    \"\"\""
   ]
  },
  {
   "cell_type": "code",
   "execution_count": null,
   "id": "9382625f-e971-4665-9f5a-ebe5d00a191a",
   "metadata": {},
   "outputs": [],
   "source": []
  }
 ],
 "metadata": {
  "kernelspec": {
   "display_name": "Python 3 (ipykernel)",
   "language": "python",
   "name": "python3"
  },
  "language_info": {
   "codemirror_mode": {
    "name": "ipython",
    "version": 3
   },
   "file_extension": ".py",
   "mimetype": "text/x-python",
   "name": "python",
   "nbconvert_exporter": "python",
   "pygments_lexer": "ipython3",
   "version": "3.9.12"
  }
 },
 "nbformat": 4,
 "nbformat_minor": 5
}
