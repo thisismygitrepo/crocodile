{
 "cells": [
  {
   "cell_type": "code",
   "execution_count": 1,
   "id": "d437f0d8-ba81-48fe-98a1-fe8dd00665d3",
   "metadata": {},
   "outputs": [],
   "source": [
    "\n",
    "from crocodile.file_management import *"
   ]
  },
  {
   "cell_type": "code",
   "execution_count": null,
   "id": "5be96ea3-c647-4f16-8111-e00f1ea0b70e",
   "metadata": {},
   "outputs": [],
   "source": []
  },
  {
   "cell_type": "markdown",
   "id": "7bc227e1-b172-4020-88c0-5734cc73d90e",
   "metadata": {},
   "source": [
    "# Security\n",
    "\n",
    "* in `pwd2key`:\n",
    "   Adding salt and iterations to the password. The salt and iteration numbers will be stored explicitly with the final encrypted message, i.e. known publicly. The benefit is that they makes trying very hard. The machinery below that produces the final key is very expensive (as large as iteration)\n",
    "\n",
    "* In `encrypt`:\n",
    "    \"\"\"Encryption Tips:\n",
    "    * Be careful of key being stored unintendedly in console or terminal history, e.g. don't use IPython.\n",
    "    * It behoves you to try decrypting it to err on the side of safety.\n",
    "    * Don't forget to delete OR store key file safely.\n",
    "    \"\"\n",
    "    * Adding salt will strengthen the password by adding random characters to it. The characters will be\n",
    "            # explicitly mentioned in final encryption and used at decryption. They help to make problem more expensive\n",
    "            # to brute force, hence reducing hances of finding a password even though it has few characters.\n"
   ]
  },
  {
   "cell_type": "code",
   "execution_count": 1,
   "id": "9382625f-e971-4665-9f5a-ebe5d00a191a",
   "metadata": {},
   "outputs": [
    {
     "ename": "NameError",
     "evalue": "name 'save_code' is not defined",
     "output_type": "error",
     "traceback": [
      "\u001B[1;31m---------------------------------------------------------------------------\u001B[0m",
      "\u001B[1;31mNameError\u001B[0m                                 Traceback (most recent call last)",
      "Input \u001B[1;32mIn [1]\u001B[0m, in \u001B[0;36m<cell line: 1>\u001B[1;34m()\u001B[0m\n\u001B[1;32m----> 1\u001B[0m \u001B[43msave_code\u001B[49m\n",
      "\u001B[1;31mNameError\u001B[0m: name 'save_code' is not defined"
     ]
    }
   ],
   "source": [
    "  save_code # a usecase for including code in the save is when the source code is continously changing and still you want to reload an old version.\"\"\""
   ]
  },
  {
   "cell_type": "code",
   "execution_count": null,
   "outputs": [],
   "source": [],
   "metadata": {
    "collapsed": false,
    "pycharm": {
     "name": "#%%\n"
    }
   }
  }
 ],
 "metadata": {
  "kernelspec": {
   "display_name": "Python 3 (ipykernel)",
   "language": "python",
   "name": "python3"
  },
  "language_info": {
   "codemirror_mode": {
    "name": "ipython",
    "version": 3
   },
   "file_extension": ".py",
   "mimetype": "text/x-python",
   "name": "python",
   "nbconvert_exporter": "python",
   "pygments_lexer": "ipython3",
   "version": "3.9.12"
  }
 },
 "nbformat": 4,
 "nbformat_minor": 5
}