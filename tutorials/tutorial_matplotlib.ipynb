{
 "cells": [
  {
   "cell_type": "code",
   "execution_count": 1,
   "id": "c8420b41-bb8e-40cf-a6dd-133b0d500b76",
   "metadata": {},
   "outputs": [],
   "source": [
    "from crocodile.matplotlib_management import *"
   ]
  },
  {
   "cell_type": "code",
   "execution_count": 3,
   "id": "1525bf1f-10a6-4c9c-ba5a-b11e168ebb04",
   "metadata": {},
   "outputs": [],
   "source": [
    "# !pip install PyQt5\n"
   ]
  },
  {
   "cell_type": "code",
   "execution_count": 2,
   "id": "843a3c3b-5c81-41ad-a683-8690e3d7ebd2",
   "metadata": {},
   "outputs": [
    {
     "ename": "ImportError",
     "evalue": "Failed to import any of the following Qt binding modules: PyQt6, PySide6, PyQt5, PySide2",
     "output_type": "error",
     "traceback": [
      "\u001b[1;31m---------------------------------------------------------------------------\u001b[0m",
      "\u001b[1;31mImportError\u001b[0m                               Traceback (most recent call last)",
      "\u001b[1;32mc:\\Users\\aalsaf01\\code\\crocodile\\tutorials\\tutorial_matplotlib.ipynb Cell 3\u001b[0m line \u001b[0;36m1\n\u001b[1;32m----> <a href='vscode-notebook-cell:/c%3A/Users/aalsaf01/code/crocodile/tutorials/tutorial_matplotlib.ipynb#W2sZmlsZQ%3D%3D?line=0'>1</a>\u001b[0m get_ipython()\u001b[39m.\u001b[39;49mrun_line_magic(\u001b[39m'\u001b[39;49m\u001b[39mmatplotlib\u001b[39;49m\u001b[39m'\u001b[39;49m, \u001b[39m'\u001b[39;49m\u001b[39mqt\u001b[39;49m\u001b[39m'\u001b[39;49m)\n\u001b[0;32m      <a href='vscode-notebook-cell:/c%3A/Users/aalsaf01/code/crocodile/tutorials/tutorial_matplotlib.ipynb#W2sZmlsZQ%3D%3D?line=1'>2</a>\u001b[0m \u001b[39m# as opposed to `inline`\u001b[39;00m\n",
      "File \u001b[1;32mc:\\Users\\aalsaf01\\venvs\\ve\\Lib\\site-packages\\IPython\\core\\interactiveshell.py:2432\u001b[0m, in \u001b[0;36mInteractiveShell.run_line_magic\u001b[1;34m(self, magic_name, line, _stack_depth)\u001b[0m\n\u001b[0;32m   2430\u001b[0m     kwargs[\u001b[39m'\u001b[39m\u001b[39mlocal_ns\u001b[39m\u001b[39m'\u001b[39m] \u001b[39m=\u001b[39m \u001b[39mself\u001b[39m\u001b[39m.\u001b[39mget_local_scope(stack_depth)\n\u001b[0;32m   2431\u001b[0m \u001b[39mwith\u001b[39;00m \u001b[39mself\u001b[39m\u001b[39m.\u001b[39mbuiltin_trap:\n\u001b[1;32m-> 2432\u001b[0m     result \u001b[39m=\u001b[39m fn(\u001b[39m*\u001b[39;49margs, \u001b[39m*\u001b[39;49m\u001b[39m*\u001b[39;49mkwargs)\n\u001b[0;32m   2434\u001b[0m \u001b[39m# The code below prevents the output from being displayed\u001b[39;00m\n\u001b[0;32m   2435\u001b[0m \u001b[39m# when using magics with decorator @output_can_be_silenced\u001b[39;00m\n\u001b[0;32m   2436\u001b[0m \u001b[39m# when the last Python token in the expression is a ';'.\u001b[39;00m\n\u001b[0;32m   2437\u001b[0m \u001b[39mif\u001b[39;00m \u001b[39mgetattr\u001b[39m(fn, magic\u001b[39m.\u001b[39mMAGIC_OUTPUT_CAN_BE_SILENCED, \u001b[39mFalse\u001b[39;00m):\n",
      "File \u001b[1;32mc:\\Users\\aalsaf01\\venvs\\ve\\Lib\\site-packages\\IPython\\core\\magics\\pylab.py:99\u001b[0m, in \u001b[0;36mPylabMagics.matplotlib\u001b[1;34m(self, line)\u001b[0m\n\u001b[0;32m     97\u001b[0m     \u001b[39mprint\u001b[39m(\u001b[39m\"\u001b[39m\u001b[39mAvailable matplotlib backends: \u001b[39m\u001b[39m%s\u001b[39;00m\u001b[39m\"\u001b[39m \u001b[39m%\u001b[39m backends_list)\n\u001b[0;32m     98\u001b[0m \u001b[39melse\u001b[39;00m:\n\u001b[1;32m---> 99\u001b[0m     gui, backend \u001b[39m=\u001b[39m \u001b[39mself\u001b[39;49m\u001b[39m.\u001b[39;49mshell\u001b[39m.\u001b[39;49menable_matplotlib(args\u001b[39m.\u001b[39;49mgui\u001b[39m.\u001b[39;49mlower() \u001b[39mif\u001b[39;49;00m \u001b[39misinstance\u001b[39;49m(args\u001b[39m.\u001b[39;49mgui, \u001b[39mstr\u001b[39;49m) \u001b[39melse\u001b[39;49;00m args\u001b[39m.\u001b[39;49mgui)\n\u001b[0;32m    100\u001b[0m     \u001b[39mself\u001b[39m\u001b[39m.\u001b[39m_show_matplotlib_backend(args\u001b[39m.\u001b[39mgui, backend)\n",
      "File \u001b[1;32mc:\\Users\\aalsaf01\\venvs\\ve\\Lib\\site-packages\\IPython\\core\\interactiveshell.py:3621\u001b[0m, in \u001b[0;36mInteractiveShell.enable_matplotlib\u001b[1;34m(self, gui)\u001b[0m\n\u001b[0;32m   3617\u001b[0m         \u001b[39mprint\u001b[39m(\u001b[39m'\u001b[39m\u001b[39mWarning: Cannot change to a different GUI toolkit: \u001b[39m\u001b[39m%s\u001b[39;00m\u001b[39m.\u001b[39m\u001b[39m'\u001b[39m\n\u001b[0;32m   3618\u001b[0m                 \u001b[39m'\u001b[39m\u001b[39m Using \u001b[39m\u001b[39m%s\u001b[39;00m\u001b[39m instead.\u001b[39m\u001b[39m'\u001b[39m \u001b[39m%\u001b[39m (gui, \u001b[39mself\u001b[39m\u001b[39m.\u001b[39mpylab_gui_select))\n\u001b[0;32m   3619\u001b[0m         gui, backend \u001b[39m=\u001b[39m pt\u001b[39m.\u001b[39mfind_gui_and_backend(\u001b[39mself\u001b[39m\u001b[39m.\u001b[39mpylab_gui_select)\n\u001b[1;32m-> 3621\u001b[0m pt\u001b[39m.\u001b[39;49mactivate_matplotlib(backend)\n\u001b[0;32m   3622\u001b[0m configure_inline_support(\u001b[39mself\u001b[39m, backend)\n\u001b[0;32m   3624\u001b[0m \u001b[39m# Now we must activate the gui pylab wants to use, and fix %run to take\u001b[39;00m\n\u001b[0;32m   3625\u001b[0m \u001b[39m# plot updates into account\u001b[39;00m\n",
      "File \u001b[1;32mc:\\Users\\aalsaf01\\venvs\\ve\\Lib\\site-packages\\IPython\\core\\pylabtools.py:368\u001b[0m, in \u001b[0;36mactivate_matplotlib\u001b[1;34m(backend)\u001b[0m\n\u001b[0;32m    363\u001b[0m \u001b[39m# Due to circular imports, pyplot may be only partially initialised\u001b[39;00m\n\u001b[0;32m    364\u001b[0m \u001b[39m# when this function runs.\u001b[39;00m\n\u001b[0;32m    365\u001b[0m \u001b[39m# So avoid needing matplotlib attribute-lookup to access pyplot.\u001b[39;00m\n\u001b[0;32m    366\u001b[0m \u001b[39mfrom\u001b[39;00m \u001b[39mmatplotlib\u001b[39;00m \u001b[39mimport\u001b[39;00m pyplot \u001b[39mas\u001b[39;00m plt\n\u001b[1;32m--> 368\u001b[0m plt\u001b[39m.\u001b[39;49mswitch_backend(backend)\n\u001b[0;32m    370\u001b[0m plt\u001b[39m.\u001b[39mshow\u001b[39m.\u001b[39m_needmain \u001b[39m=\u001b[39m \u001b[39mFalse\u001b[39;00m\n\u001b[0;32m    371\u001b[0m \u001b[39m# We need to detect at runtime whether show() is called by the user.\u001b[39;00m\n\u001b[0;32m    372\u001b[0m \u001b[39m# For this, we wrap it into a decorator which adds a 'called' flag.\u001b[39;00m\n",
      "File \u001b[1;32mc:\\Users\\aalsaf01\\venvs\\ve\\Lib\\site-packages\\matplotlib\\pyplot.py:342\u001b[0m, in \u001b[0;36mswitch_backend\u001b[1;34m(newbackend)\u001b[0m\n\u001b[0;32m    339\u001b[0m \u001b[39m# have to escape the switch on access logic\u001b[39;00m\n\u001b[0;32m    340\u001b[0m old_backend \u001b[39m=\u001b[39m \u001b[39mdict\u001b[39m\u001b[39m.\u001b[39m\u001b[39m__getitem__\u001b[39m(rcParams, \u001b[39m'\u001b[39m\u001b[39mbackend\u001b[39m\u001b[39m'\u001b[39m)\n\u001b[1;32m--> 342\u001b[0m module \u001b[39m=\u001b[39m importlib\u001b[39m.\u001b[39;49mimport_module(cbook\u001b[39m.\u001b[39;49m_backend_module_name(newbackend))\n\u001b[0;32m    343\u001b[0m canvas_class \u001b[39m=\u001b[39m module\u001b[39m.\u001b[39mFigureCanvas\n\u001b[0;32m    345\u001b[0m required_framework \u001b[39m=\u001b[39m canvas_class\u001b[39m.\u001b[39mrequired_interactive_framework\n",
      "File \u001b[1;32m~\\AppData\\Local\\Programs\\Python\\Python311\\Lib\\importlib\\__init__.py:126\u001b[0m, in \u001b[0;36mimport_module\u001b[1;34m(name, package)\u001b[0m\n\u001b[0;32m    124\u001b[0m             \u001b[39mbreak\u001b[39;00m\n\u001b[0;32m    125\u001b[0m         level \u001b[39m+\u001b[39m\u001b[39m=\u001b[39m \u001b[39m1\u001b[39m\n\u001b[1;32m--> 126\u001b[0m \u001b[39mreturn\u001b[39;00m _bootstrap\u001b[39m.\u001b[39;49m_gcd_import(name[level:], package, level)\n",
      "File \u001b[1;32m<frozen importlib._bootstrap>:1204\u001b[0m, in \u001b[0;36m_gcd_import\u001b[1;34m(name, package, level)\u001b[0m\n",
      "File \u001b[1;32m<frozen importlib._bootstrap>:1176\u001b[0m, in \u001b[0;36m_find_and_load\u001b[1;34m(name, import_)\u001b[0m\n",
      "File \u001b[1;32m<frozen importlib._bootstrap>:1147\u001b[0m, in \u001b[0;36m_find_and_load_unlocked\u001b[1;34m(name, import_)\u001b[0m\n",
      "File \u001b[1;32m<frozen importlib._bootstrap>:690\u001b[0m, in \u001b[0;36m_load_unlocked\u001b[1;34m(spec)\u001b[0m\n",
      "File \u001b[1;32m<frozen importlib._bootstrap_external>:940\u001b[0m, in \u001b[0;36mexec_module\u001b[1;34m(self, module)\u001b[0m\n",
      "File \u001b[1;32m<frozen importlib._bootstrap>:241\u001b[0m, in \u001b[0;36m_call_with_frames_removed\u001b[1;34m(f, *args, **kwds)\u001b[0m\n",
      "File \u001b[1;32mc:\\Users\\aalsaf01\\venvs\\ve\\Lib\\site-packages\\matplotlib\\backends\\backend_qtagg.py:9\u001b[0m\n\u001b[0;32m      5\u001b[0m \u001b[39mimport\u001b[39;00m \u001b[39mctypes\u001b[39;00m\n\u001b[0;32m      7\u001b[0m \u001b[39mfrom\u001b[39;00m \u001b[39mmatplotlib\u001b[39;00m\u001b[39m.\u001b[39;00m\u001b[39mtransforms\u001b[39;00m \u001b[39mimport\u001b[39;00m Bbox\n\u001b[1;32m----> 9\u001b[0m \u001b[39mfrom\u001b[39;00m \u001b[39m.\u001b[39;00m\u001b[39mqt_compat\u001b[39;00m \u001b[39mimport\u001b[39;00m QT_API, QtCore, QtGui\n\u001b[0;32m     10\u001b[0m \u001b[39mfrom\u001b[39;00m \u001b[39m.\u001b[39;00m\u001b[39mbackend_agg\u001b[39;00m \u001b[39mimport\u001b[39;00m FigureCanvasAgg\n\u001b[0;32m     11\u001b[0m \u001b[39mfrom\u001b[39;00m \u001b[39m.\u001b[39;00m\u001b[39mbackend_qt\u001b[39;00m \u001b[39mimport\u001b[39;00m _BackendQT, FigureCanvasQT\n",
      "File \u001b[1;32mc:\\Users\\aalsaf01\\venvs\\ve\\Lib\\site-packages\\matplotlib\\backends\\qt_compat.py:133\u001b[0m\n\u001b[0;32m    131\u001b[0m         \u001b[39mbreak\u001b[39;00m\n\u001b[0;32m    132\u001b[0m     \u001b[39melse\u001b[39;00m:\n\u001b[1;32m--> 133\u001b[0m         \u001b[39mraise\u001b[39;00m \u001b[39mImportError\u001b[39;00m(\n\u001b[0;32m    134\u001b[0m             \u001b[39m\"\u001b[39m\u001b[39mFailed to import any of the following Qt binding modules: \u001b[39m\u001b[39m{}\u001b[39;00m\u001b[39m\"\u001b[39m\n\u001b[0;32m    135\u001b[0m             \u001b[39m.\u001b[39mformat(\u001b[39m\"\u001b[39m\u001b[39m, \u001b[39m\u001b[39m\"\u001b[39m\u001b[39m.\u001b[39mjoin([QT_API \u001b[39mfor\u001b[39;00m _, QT_API \u001b[39min\u001b[39;00m _candidates]))\n\u001b[0;32m    136\u001b[0m         )\n\u001b[0;32m    137\u001b[0m \u001b[39melse\u001b[39;00m:  \u001b[39m# We should not get there.\u001b[39;00m\n\u001b[0;32m    138\u001b[0m     \u001b[39mraise\u001b[39;00m \u001b[39mAssertionError\u001b[39;00m(\u001b[39mf\u001b[39m\u001b[39m\"\u001b[39m\u001b[39mUnexpected QT_API: \u001b[39m\u001b[39m{\u001b[39;00mQT_API\u001b[39m}\u001b[39;00m\u001b[39m\"\u001b[39m)\n",
      "\u001b[1;31mImportError\u001b[0m: Failed to import any of the following Qt binding modules: PyQt6, PySide6, PyQt5, PySide2"
     ]
    }
   ],
   "source": [
    "%matplotlib qt\n",
    "# as opposed to `inline`"
   ]
  },
  {
   "cell_type": "markdown",
   "id": "de5cfc9c-7b11-45ef-b484-b4914ec7ad9e",
   "metadata": {},
   "source": [
    "# Slack style, doesn't specify which fig or axis to save, thus, figsave will look for all opened figures.\n"
   ]
  },
  {
   "cell_type": "code",
   "execution_count": 6,
   "id": "9c4cc81e-2aa4-449e-a37b-aa89ad98f2e1",
   "metadata": {},
   "outputs": [
    {
     "name": "stdout",
     "output_type": "stream",
     "text": [
      "Saving results ...number 9\n",
      "SAVED PDF @ file:///C:/Users/alex/tmp_results/tmp_dirs/tmp_fig_save_pebe7pHk3f/2022-09-01-11-57-39-AM-655406.pdf\n"
     ]
    },
    {
     "data": {
      "text/plain": [
       "<crocodile.matplotlib_management.FigureSave.PDF at 0x246a032b460>"
      ]
     },
     "execution_count": 6,
     "metadata": {},
     "output_type": "execute_result"
    }
   ],
   "source": [
    "dat = np.random.random((10, 100))\n",
    "saver = FigureSave.PDF()\n",
    "for item in dat:\n",
    "    plt.plot(item)  # this behaviour will keep superimpsing on the same figure\n",
    "    saver.add()\n",
    "saver.finish()"
   ]
  },
  {
   "cell_type": "markdown",
   "id": "3188b87d-12ed-4503-9e7e-0c0e26537171",
   "metadata": {},
   "source": [
    "# Declare the figure first, clear the axis after each plot.\n"
   ]
  },
  {
   "cell_type": "code",
   "execution_count": 7,
   "id": "f88ab94b-0a3a-4c1b-bf27-161026d33a83",
   "metadata": {},
   "outputs": [
    {
     "name": "stdout",
     "output_type": "stream",
     "text": [
      "SAVED PNGs @ file:///C:/Users/alex/tmp_results/tmp_dirs/s7twPuXg7h/2022-09-01-11-58-04-AM-721480\n"
     ]
    },
    {
     "data": {
      "text/plain": [
       "<crocodile.matplotlib_management.FigureSave.PNG at 0x246a61f2400>"
      ]
     },
     "execution_count": 7,
     "metadata": {},
     "output_type": "execute_result"
    }
   ],
   "source": [
    "dat = np.random.random((10, 100))\n",
    "_ = plt.plot([1, 2])  # random figure, will be ignored by figsaver\n",
    "fig, ax = plt.subplots(figsize=(12, 8))\n",
    "saver = FigureSave.PNG(watch_figs=[fig], save_dir=P.tmpdir())\n",
    "for item in dat:\n",
    "    ax.plot(item)\n",
    "    saver.add(names=[randstr()])\n",
    "    ax.cla()  # clear axis\n",
    "saver.finish()\n"
   ]
  },
  {
   "cell_type": "code",
   "execution_count": null,
   "id": "a3b4a2f9-e15d-4124-9be5-07ce4d6266c8",
   "metadata": {},
   "outputs": [],
   "source": []
  },
  {
   "cell_type": "code",
   "execution_count": 14,
   "id": "bfbaaea9-0e12-4eca-8721-c7bcd664191a",
   "metadata": {},
   "outputs": [
    {
     "ename": "ValueError",
     "evalue": "Unknown writer.",
     "output_type": "error",
     "traceback": [
      "\u001b[1;31m---------------------------------------------------------------------------\u001b[0m",
      "\u001b[1;31mValueError\u001b[0m                                Traceback (most recent call last)",
      "Input \u001b[1;32mIn [14]\u001b[0m, in \u001b[0;36m<cell line: 5>\u001b[1;34m()\u001b[0m\n\u001b[0;32m      3\u001b[0m dat \u001b[38;5;241m=\u001b[39m np\u001b[38;5;241m.\u001b[39mrandom\u001b[38;5;241m.\u001b[39mrandom((\u001b[38;5;241m10\u001b[39m, \u001b[38;5;241m100\u001b[39m))\n\u001b[0;32m      4\u001b[0m fig, ax \u001b[38;5;241m=\u001b[39m plt\u001b[38;5;241m.\u001b[39msubplots(figsize\u001b[38;5;241m=\u001b[39m(\u001b[38;5;241m12\u001b[39m, \u001b[38;5;241m8\u001b[39m))\n\u001b[1;32m----> 5\u001b[0m saver \u001b[38;5;241m=\u001b[39m \u001b[43mFigureSave\u001b[49m\u001b[38;5;241;43m.\u001b[39;49m\u001b[43mGIFFileBased\u001b[49m\u001b[43m(\u001b[49m\u001b[43mwatch_figs\u001b[49m\u001b[38;5;241;43m=\u001b[39;49m\u001b[43m[\u001b[49m\u001b[43mfig\u001b[49m\u001b[43m]\u001b[49m\u001b[43m,\u001b[49m\u001b[43m \u001b[49m\u001b[43msave_dir\u001b[49m\u001b[38;5;241;43m=\u001b[39;49m\u001b[43mP\u001b[49m\u001b[38;5;241;43m.\u001b[39;49m\u001b[43mtmpdir\u001b[49m\u001b[43m(\u001b[49m\u001b[43m)\u001b[49m\u001b[43m)\u001b[49m\n\u001b[0;32m      6\u001b[0m \u001b[38;5;28;01mfor\u001b[39;00m item \u001b[38;5;129;01min\u001b[39;00m dat:\n\u001b[0;32m      7\u001b[0m     ax\u001b[38;5;241m.\u001b[39mplot(item)[\u001b[38;5;241m0\u001b[39m]\u001b[38;5;241m.\u001b[39mset_label(\u001b[38;5;124m\"\u001b[39m\u001b[38;5;124mneo\u001b[39m\u001b[38;5;124m\"\u001b[39m)\n",
      "File \u001b[1;32mc:\\users\\alex\\code\\crocodile\\myresources\\crocodile\\matplotlib_management.py:173\u001b[0m, in \u001b[0;36m__init__\u001b[1;34m(self, fps, dpi, bitrate, _type, **kwargs)\u001b[0m\n\u001b[0;32m    171\u001b[0m         \u001b[38;5;28;01mfor\u001b[39;00m idx, datum \u001b[38;5;129;01min\u001b[39;00m \u001b[38;5;28m__import__\u001b[39m(\u001b[38;5;124m\"\u001b[39m\u001b[38;5;124mtqdm\u001b[39m\u001b[38;5;124m\"\u001b[39m)\u001b[38;5;241m.\u001b[39mtqdm(\u001b[38;5;28menumerate\u001b[39m(\u001b[38;5;28mself\u001b[39m\u001b[38;5;241m.\u001b[39mdata)): \u001b[38;5;28mself\u001b[39m\u001b[38;5;241m.\u001b[39mplotter\u001b[38;5;241m.\u001b[39manimate(datum); \u001b[38;5;28mself\u001b[39m\u001b[38;5;241m.\u001b[39msaver\u001b[38;5;241m.\u001b[39madd(names\u001b[38;5;241m=\u001b[39m[\u001b[38;5;28mself\u001b[39m\u001b[38;5;241m.\u001b[39mnames_list[idx] \u001b[38;5;28;01mif\u001b[39;00m \u001b[38;5;28mself\u001b[39m\u001b[38;5;241m.\u001b[39mnames_list \u001b[38;5;129;01mis\u001b[39;00m \u001b[38;5;129;01mnot\u001b[39;00m \u001b[38;5;28;01mNone\u001b[39;00m \u001b[38;5;28;01melse\u001b[39;00m \u001b[38;5;28mstr\u001b[39m(idx)])\n\u001b[0;32m    172\u001b[0m         \u001b[38;5;28mself\u001b[39m\u001b[38;5;241m.\u001b[39msaver\u001b[38;5;241m.\u001b[39mfinish()\n\u001b[1;32m--> 173\u001b[0m \u001b[38;5;28;01mclass\u001b[39;00m \u001b[38;5;21;01mGIFAuto\u001b[39;00m(GenericAuto):\n\u001b[0;32m    174\u001b[0m     \u001b[38;5;28;01mdef\u001b[39;00m \u001b[38;5;21m__init__\u001b[39m(\u001b[38;5;28mself\u001b[39m, plotter_class, data, interval\u001b[38;5;241m=\u001b[39m\u001b[38;5;241m500\u001b[39m, extension\u001b[38;5;241m=\u001b[39m\u001b[38;5;124m'\u001b[39m\u001b[38;5;124mgif\u001b[39m\u001b[38;5;124m'\u001b[39m, fps\u001b[38;5;241m=\u001b[39m\u001b[38;5;241m4\u001b[39m, metadata\u001b[38;5;241m=\u001b[39m\u001b[38;5;28;01mNone\u001b[39;00m, \u001b[38;5;241m*\u001b[39m\u001b[38;5;241m*\u001b[39mkwargs):\n\u001b[0;32m    175\u001b[0m         \u001b[38;5;28msuper\u001b[39m()\u001b[38;5;241m.\u001b[39m\u001b[38;5;21m__init__\u001b[39m(plotter_class, data, \u001b[38;5;241m*\u001b[39m\u001b[38;5;241m*\u001b[39mkwargs)\n",
      "\u001b[1;31mValueError\u001b[0m: Unknown writer."
     ]
    }
   ],
   "source": [
    "# PDF and PNG figsavers do not require a persistent figure. In fact, at run time, every snap captured on the fly by passing `fignames` to `add` method, which can come from anywhere.\n",
    "# GIF figsaver on the otherhand, have stricter requirements.\n",
    "dat = np.random.random((10, 100))\n",
    "fig, ax = plt.subplots(figsize=(12, 8))\n",
    "saver = FigureSave.GIFFileBased(watch_figs=[fig], save_dir=P.tmpdir())\n",
    "for item in dat:\n",
    "    ax.plot(item)[0].set_label(\"neo\")\n",
    "    saver.add(names=[randstr()])\n",
    "    ax.cla()  # clear axis\n",
    "saver.finish()\n"
   ]
  },
  {
   "cell_type": "markdown",
   "id": "b7fe842e-a4bb-4fc4-90ff-003fecf9fddf",
   "metadata": {},
   "source": [
    "# Trying out GIF\n"
   ]
  },
  {
   "cell_type": "code",
   "execution_count": 10,
   "id": "46b40bda-cd2d-4b6c-b760-43f93fd20cb6",
   "metadata": {},
   "outputs": [
    {
     "name": "stdout",
     "output_type": "stream",
     "text": [
      "Saving the GIF ....umber 9\n",
      "SAVED GIF @ file:///C:/Users/alex/tmp_results/tmp_dirs/3z3tuSSFPx/_2022-09-01-11-59-14-AM-166901.gif\n"
     ]
    }
   ],
   "source": [
    "dat = np.random.random((10, 100))\n",
    "fig, ax = plt.subplots(figsize=(12, 8))\n",
    "saver = FigureSave.GIF(watch_figs=[fig], save_dir=P.tmpdir())\n",
    "for item in dat:\n",
    "    ax.plot(item)[0].set_label(\"neo\")\n",
    "    saver.add(names=[randstr()])\n",
    "    # ax.cla()  # clear axis\n",
    "saver.finish()"
   ]
  },
  {
   "cell_type": "markdown",
   "id": "81acbd4a-c7d7-4cb7-a36b-980c9b39aac3",
   "metadata": {},
   "source": [
    "# trying out MPEG\n"
   ]
  },
  {
   "cell_type": "code",
   "execution_count": 11,
   "id": "03367814-f091-4fd1-bc95-f27ed1f98e2b",
   "metadata": {},
   "outputs": [
    {
     "name": "stdout",
     "output_type": "stream",
     "text": [
      "Saving results ...number 9\n",
      "SAVED GIF @ file:///C:/Users/alex/tmp_results/tmp_dirs/aiS706XjSy/2022-09-01-11-59-33-AM-829189.mp4\n"
     ]
    },
    {
     "data": {
      "text/plain": [
       "<crocodile.matplotlib_management.FigureSave.MPEGPipeBased at 0x246a7ea6df0>"
      ]
     },
     "execution_count": 11,
     "metadata": {},
     "output_type": "execute_result"
    }
   ],
   "source": [
    "dat = np.random.random((10, 100))\n",
    "fig, ax = plt.subplots(figsize=(12, 8))\n",
    "saver = FigureSave.MPEGPipeBased(watch_figs=[fig], save_dir=P.tmpdir())\n",
    "for item in dat:\n",
    "    ax.plot(item)\n",
    "    saver.add(names=[randstr()])\n",
    "    ax.cla()  # clear axis\n",
    "saver.finish()"
   ]
  },
  {
   "cell_type": "markdown",
   "id": "d72effab-5b45-4e41-8130-30aca80f3447",
   "metadata": {},
   "source": [
    "# trying out auto savers"
   ]
  },
  {
   "cell_type": "code",
   "execution_count": 12,
   "id": "e58f5aa2-216a-4075-9726-2611cb544437",
   "metadata": {},
   "outputs": [
    {
     "name": "stderr",
     "output_type": "stream",
     "text": [
      "0it [00:00, ?it/s]"
     ]
    },
    {
     "name": "stdout",
     "output_type": "stream",
     "text": [
      "Saver added frame number 0\r"
     ]
    },
    {
     "name": "stderr",
     "output_type": "stream",
     "text": [
      "2it [00:00,  3.62it/s]"
     ]
    },
    {
     "name": "stdout",
     "output_type": "stream",
     "text": [
      "Saver added frame number 2\r"
     ]
    },
    {
     "name": "stderr",
     "output_type": "stream",
     "text": [
      "4it [00:00,  4.12it/s]"
     ]
    },
    {
     "name": "stdout",
     "output_type": "stream",
     "text": [
      "Saver added frame number 3\r"
     ]
    },
    {
     "name": "stderr",
     "output_type": "stream",
     "text": [
      "5it [00:01,  4.40it/s]"
     ]
    },
    {
     "name": "stdout",
     "output_type": "stream",
     "text": [
      "Saver added frame number 5\r"
     ]
    },
    {
     "name": "stderr",
     "output_type": "stream",
     "text": [
      "6it [00:01,  4.34it/s]"
     ]
    },
    {
     "name": "stdout",
     "output_type": "stream",
     "text": [
      "Saver added frame number 6\r"
     ]
    },
    {
     "name": "stderr",
     "output_type": "stream",
     "text": [
      "8it [00:01,  4.29it/s]"
     ]
    },
    {
     "name": "stdout",
     "output_type": "stream",
     "text": [
      "Saver added frame number 8\r"
     ]
    },
    {
     "name": "stderr",
     "output_type": "stream",
     "text": [
      "9it [00:02,  4.30it/s]"
     ]
    },
    {
     "name": "stdout",
     "output_type": "stream",
     "text": [
      "Saver added frame number 9\r"
     ]
    },
    {
     "name": "stderr",
     "output_type": "stream",
     "text": [
      "10it [00:02,  4.33it/s]"
     ]
    },
    {
     "name": "stdout",
     "output_type": "stream",
     "text": [
      "Saver added frame number 10\r"
     ]
    },
    {
     "name": "stderr",
     "output_type": "stream",
     "text": [
      "11it [00:02,  4.35it/s]"
     ]
    },
    {
     "name": "stdout",
     "output_type": "stream",
     "text": [
      "Saver added frame number 11\r"
     ]
    },
    {
     "name": "stderr",
     "output_type": "stream",
     "text": [
      "12it [00:02,  4.31it/s]"
     ]
    },
    {
     "name": "stdout",
     "output_type": "stream",
     "text": [
      "Saver added frame number 12\r"
     ]
    },
    {
     "name": "stderr",
     "output_type": "stream",
     "text": [
      "13it [00:03,  4.35it/s]"
     ]
    },
    {
     "name": "stdout",
     "output_type": "stream",
     "text": [
      "Saver added frame number 13\r"
     ]
    },
    {
     "name": "stderr",
     "output_type": "stream",
     "text": [
      "14it [00:03,  4.28it/s]"
     ]
    },
    {
     "name": "stdout",
     "output_type": "stream",
     "text": [
      "Saver added frame number 14\r"
     ]
    },
    {
     "name": "stderr",
     "output_type": "stream",
     "text": [
      "15it [00:03,  4.30it/s]"
     ]
    },
    {
     "name": "stdout",
     "output_type": "stream",
     "text": [
      "Saver added frame number 15\r"
     ]
    },
    {
     "name": "stderr",
     "output_type": "stream",
     "text": [
      "16it [00:03,  4.30it/s]"
     ]
    },
    {
     "name": "stdout",
     "output_type": "stream",
     "text": [
      "Saver added frame number 16\r"
     ]
    },
    {
     "name": "stderr",
     "output_type": "stream",
     "text": [
      "17it [00:04,  4.12it/s]"
     ]
    },
    {
     "name": "stdout",
     "output_type": "stream",
     "text": [
      "Saver added frame number 17\r"
     ]
    },
    {
     "name": "stderr",
     "output_type": "stream",
     "text": [
      "19it [00:04,  4.41it/s]"
     ]
    },
    {
     "name": "stdout",
     "output_type": "stream",
     "text": [
      "Saver added frame number 19\r"
     ]
    },
    {
     "name": "stderr",
     "output_type": "stream",
     "text": [
      "21it [00:04,  4.52it/s]"
     ]
    },
    {
     "name": "stdout",
     "output_type": "stream",
     "text": [
      "Saver added frame number 21\r"
     ]
    },
    {
     "name": "stderr",
     "output_type": "stream",
     "text": [
      "22it [00:05,  4.51it/s]"
     ]
    },
    {
     "name": "stdout",
     "output_type": "stream",
     "text": [
      "Saver added frame number 22\r"
     ]
    },
    {
     "name": "stderr",
     "output_type": "stream",
     "text": [
      "23it [00:05,  4.47it/s]"
     ]
    },
    {
     "name": "stdout",
     "output_type": "stream",
     "text": [
      "Saver added frame number 23\r"
     ]
    },
    {
     "name": "stderr",
     "output_type": "stream",
     "text": [
      "25it [00:05,  4.51it/s]"
     ]
    },
    {
     "name": "stdout",
     "output_type": "stream",
     "text": [
      "Saver added frame number 24\r"
     ]
    },
    {
     "name": "stderr",
     "output_type": "stream",
     "text": [
      "26it [00:06,  4.38it/s]"
     ]
    },
    {
     "name": "stdout",
     "output_type": "stream",
     "text": [
      "Saver added frame number 26\r"
     ]
    },
    {
     "name": "stderr",
     "output_type": "stream",
     "text": [
      "27it [00:06,  4.48it/s]"
     ]
    },
    {
     "name": "stdout",
     "output_type": "stream",
     "text": [
      "Saver added frame number 27\r"
     ]
    },
    {
     "name": "stderr",
     "output_type": "stream",
     "text": [
      "29it [00:06,  4.53it/s]"
     ]
    },
    {
     "name": "stdout",
     "output_type": "stream",
     "text": [
      "Saver added frame number 29\r"
     ]
    },
    {
     "name": "stderr",
     "output_type": "stream",
     "text": [
      "30it [00:06,  4.34it/s]"
     ]
    },
    {
     "name": "stdout",
     "output_type": "stream",
     "text": [
      "Saver added frame number 30\r"
     ]
    },
    {
     "name": "stderr",
     "output_type": "stream",
     "text": [
      "32it [00:07,  4.51it/s]"
     ]
    },
    {
     "name": "stdout",
     "output_type": "stream",
     "text": [
      "Saver added frame number 31\r"
     ]
    },
    {
     "name": "stderr",
     "output_type": "stream",
     "text": [
      "33it [00:07,  4.54it/s]"
     ]
    },
    {
     "name": "stdout",
     "output_type": "stream",
     "text": [
      "Saver added frame number 33\r"
     ]
    },
    {
     "name": "stderr",
     "output_type": "stream",
     "text": [
      "34it [00:07,  4.41it/s]"
     ]
    },
    {
     "name": "stdout",
     "output_type": "stream",
     "text": [
      "Saver added frame number 34\r"
     ]
    },
    {
     "name": "stderr",
     "output_type": "stream",
     "text": [
      "36it [00:08,  4.66it/s]"
     ]
    },
    {
     "name": "stdout",
     "output_type": "stream",
     "text": [
      "Saver added frame number 36\r"
     ]
    },
    {
     "name": "stderr",
     "output_type": "stream",
     "text": [
      "37it [00:08,  4.65it/s]"
     ]
    },
    {
     "name": "stdout",
     "output_type": "stream",
     "text": [
      "Saver added frame number 37\r"
     ]
    },
    {
     "name": "stderr",
     "output_type": "stream",
     "text": [
      "39it [00:08,  4.67it/s]"
     ]
    },
    {
     "name": "stdout",
     "output_type": "stream",
     "text": [
      "Saver added frame number 39\r"
     ]
    },
    {
     "name": "stderr",
     "output_type": "stream",
     "text": [
      "41it [00:09,  4.74it/s]"
     ]
    },
    {
     "name": "stdout",
     "output_type": "stream",
     "text": [
      "Saver added frame number 40\r"
     ]
    },
    {
     "name": "stderr",
     "output_type": "stream",
     "text": [
      "42it [00:09,  4.74it/s]"
     ]
    },
    {
     "name": "stdout",
     "output_type": "stream",
     "text": [
      "Saver added frame number 41\r"
     ]
    },
    {
     "name": "stderr",
     "output_type": "stream",
     "text": [
      "43it [00:09,  4.54it/s]"
     ]
    },
    {
     "name": "stdout",
     "output_type": "stream",
     "text": [
      "Saver added frame number 43\r"
     ]
    },
    {
     "name": "stderr",
     "output_type": "stream",
     "text": [
      "44it [00:09,  4.57it/s]"
     ]
    },
    {
     "name": "stdout",
     "output_type": "stream",
     "text": [
      "Saver added frame number 44\r"
     ]
    },
    {
     "name": "stderr",
     "output_type": "stream",
     "text": [
      "45it [00:10,  4.55it/s]"
     ]
    },
    {
     "name": "stdout",
     "output_type": "stream",
     "text": [
      "Saver added frame number 45\r"
     ]
    },
    {
     "name": "stderr",
     "output_type": "stream",
     "text": [
      "46it [00:10,  4.36it/s]"
     ]
    },
    {
     "name": "stdout",
     "output_type": "stream",
     "text": [
      "Saver added frame number 46\r"
     ]
    },
    {
     "name": "stderr",
     "output_type": "stream",
     "text": [
      "47it [00:10,  4.28it/s]"
     ]
    },
    {
     "name": "stdout",
     "output_type": "stream",
     "text": [
      "Saver added frame number 47\r"
     ]
    },
    {
     "name": "stderr",
     "output_type": "stream",
     "text": [
      "48it [00:10,  4.37it/s]"
     ]
    },
    {
     "name": "stdout",
     "output_type": "stream",
     "text": [
      "Saver added frame number 48\r"
     ]
    },
    {
     "name": "stderr",
     "output_type": "stream",
     "text": [
      "49it [00:11,  4.37it/s]"
     ]
    },
    {
     "name": "stdout",
     "output_type": "stream",
     "text": [
      "Saver added frame number 49\r"
     ]
    },
    {
     "name": "stderr",
     "output_type": "stream",
     "text": [
      "50it [00:11,  4.44it/s]"
     ]
    },
    {
     "name": "stdout",
     "output_type": "stream",
     "text": [
      "Saver added frame number 50\r"
     ]
    },
    {
     "name": "stderr",
     "output_type": "stream",
     "text": [
      "52it [00:11,  4.55it/s]"
     ]
    },
    {
     "name": "stdout",
     "output_type": "stream",
     "text": [
      "Saver added frame number 52\r"
     ]
    },
    {
     "name": "stderr",
     "output_type": "stream",
     "text": [
      "54it [00:12,  4.53it/s]"
     ]
    },
    {
     "name": "stdout",
     "output_type": "stream",
     "text": [
      "Saver added frame number 53\r"
     ]
    },
    {
     "name": "stderr",
     "output_type": "stream",
     "text": [
      "55it [00:12,  4.52it/s]"
     ]
    },
    {
     "name": "stdout",
     "output_type": "stream",
     "text": [
      "Saver added frame number 55\r"
     ]
    },
    {
     "name": "stderr",
     "output_type": "stream",
     "text": [
      "57it [00:12,  4.54it/s]"
     ]
    },
    {
     "name": "stdout",
     "output_type": "stream",
     "text": [
      "Saver added frame number 56\r"
     ]
    },
    {
     "name": "stderr",
     "output_type": "stream",
     "text": [
      "58it [00:13,  4.62it/s]"
     ]
    },
    {
     "name": "stdout",
     "output_type": "stream",
     "text": [
      "Saver added frame number 57\r"
     ]
    },
    {
     "name": "stderr",
     "output_type": "stream",
     "text": [
      "59it [00:13,  4.78it/s]"
     ]
    },
    {
     "name": "stdout",
     "output_type": "stream",
     "text": [
      "Saver added frame number 59\r"
     ]
    },
    {
     "name": "stderr",
     "output_type": "stream",
     "text": [
      "61it [00:13,  4.76it/s]"
     ]
    },
    {
     "name": "stdout",
     "output_type": "stream",
     "text": [
      "Saver added frame number 61\r"
     ]
    },
    {
     "name": "stderr",
     "output_type": "stream",
     "text": [
      "62it [00:13,  4.62it/s]"
     ]
    },
    {
     "name": "stdout",
     "output_type": "stream",
     "text": [
      "Saver added frame number 62\r"
     ]
    },
    {
     "name": "stderr",
     "output_type": "stream",
     "text": [
      "64it [00:14,  4.53it/s]"
     ]
    },
    {
     "name": "stdout",
     "output_type": "stream",
     "text": [
      "Saver added frame number 63\r"
     ]
    },
    {
     "name": "stderr",
     "output_type": "stream",
     "text": [
      "65it [00:14,  4.59it/s]"
     ]
    },
    {
     "name": "stdout",
     "output_type": "stream",
     "text": [
      "Saver added frame number 64\r"
     ]
    },
    {
     "name": "stderr",
     "output_type": "stream",
     "text": [
      "66it [00:14,  4.60it/s]"
     ]
    },
    {
     "name": "stdout",
     "output_type": "stream",
     "text": [
      "Saver added frame number 66\r"
     ]
    },
    {
     "name": "stderr",
     "output_type": "stream",
     "text": [
      "67it [00:15,  4.51it/s]"
     ]
    },
    {
     "name": "stdout",
     "output_type": "stream",
     "text": [
      "Saver added frame number 67\r"
     ]
    },
    {
     "name": "stderr",
     "output_type": "stream",
     "text": [
      "69it [00:15,  4.46it/s]"
     ]
    },
    {
     "name": "stdout",
     "output_type": "stream",
     "text": [
      "Saver added frame number 69\r"
     ]
    },
    {
     "name": "stderr",
     "output_type": "stream",
     "text": [
      "71it [00:15,  4.67it/s]"
     ]
    },
    {
     "name": "stdout",
     "output_type": "stream",
     "text": [
      "Saver added frame number 71\r"
     ]
    },
    {
     "name": "stderr",
     "output_type": "stream",
     "text": [
      "72it [00:16,  4.42it/s]"
     ]
    },
    {
     "name": "stdout",
     "output_type": "stream",
     "text": [
      "Saver added frame number 72\r"
     ]
    },
    {
     "name": "stderr",
     "output_type": "stream",
     "text": [
      "73it [00:16,  4.50it/s]"
     ]
    },
    {
     "name": "stdout",
     "output_type": "stream",
     "text": [
      "Saver added frame number 73\r"
     ]
    },
    {
     "name": "stderr",
     "output_type": "stream",
     "text": [
      "75it [00:16,  4.51it/s]"
     ]
    },
    {
     "name": "stdout",
     "output_type": "stream",
     "text": [
      "Saver added frame number 74\r"
     ]
    },
    {
     "name": "stderr",
     "output_type": "stream",
     "text": [
      "76it [00:17,  4.47it/s]"
     ]
    },
    {
     "name": "stdout",
     "output_type": "stream",
     "text": [
      "Saver added frame number 75\r"
     ]
    },
    {
     "name": "stderr",
     "output_type": "stream",
     "text": [
      "77it [00:17,  4.48it/s]"
     ]
    },
    {
     "name": "stdout",
     "output_type": "stream",
     "text": [
      "Saver added frame number 77\r"
     ]
    },
    {
     "name": "stderr",
     "output_type": "stream",
     "text": [
      "78it [00:17,  4.38it/s]"
     ]
    },
    {
     "name": "stdout",
     "output_type": "stream",
     "text": [
      "Saver added frame number 78\r"
     ]
    },
    {
     "name": "stderr",
     "output_type": "stream",
     "text": [
      "80it [00:17,  4.67it/s]"
     ]
    },
    {
     "name": "stdout",
     "output_type": "stream",
     "text": [
      "Saver added frame number 79\r"
     ]
    },
    {
     "name": "stderr",
     "output_type": "stream",
     "text": [
      "81it [00:18,  4.69it/s]"
     ]
    },
    {
     "name": "stdout",
     "output_type": "stream",
     "text": [
      "Saver added frame number 81\r"
     ]
    },
    {
     "name": "stderr",
     "output_type": "stream",
     "text": [
      "83it [00:18,  4.66it/s]"
     ]
    },
    {
     "name": "stdout",
     "output_type": "stream",
     "text": [
      "Saver added frame number 82\r"
     ]
    },
    {
     "name": "stderr",
     "output_type": "stream",
     "text": [
      "84it [00:18,  4.62it/s]"
     ]
    },
    {
     "name": "stdout",
     "output_type": "stream",
     "text": [
      "Saver added frame number 84\r"
     ]
    },
    {
     "name": "stderr",
     "output_type": "stream",
     "text": [
      "86it [00:19,  4.78it/s]"
     ]
    },
    {
     "name": "stdout",
     "output_type": "stream",
     "text": [
      "Saver added frame number 86\r"
     ]
    },
    {
     "name": "stderr",
     "output_type": "stream",
     "text": [
      "87it [00:19,  4.59it/s]"
     ]
    },
    {
     "name": "stdout",
     "output_type": "stream",
     "text": [
      "Saver added frame number 87\r"
     ]
    },
    {
     "name": "stderr",
     "output_type": "stream",
     "text": [
      "88it [00:19,  4.54it/s]"
     ]
    },
    {
     "name": "stdout",
     "output_type": "stream",
     "text": [
      "Saver added frame number 88\r"
     ]
    },
    {
     "name": "stderr",
     "output_type": "stream",
     "text": [
      "89it [00:19,  4.56it/s]"
     ]
    },
    {
     "name": "stdout",
     "output_type": "stream",
     "text": [
      "Saver added frame number 89\r"
     ]
    },
    {
     "name": "stderr",
     "output_type": "stream",
     "text": [
      "91it [00:20,  4.71it/s]"
     ]
    },
    {
     "name": "stdout",
     "output_type": "stream",
     "text": [
      "Saver added frame number 91\r"
     ]
    },
    {
     "name": "stderr",
     "output_type": "stream",
     "text": [
      "93it [00:20,  4.83it/s]"
     ]
    },
    {
     "name": "stdout",
     "output_type": "stream",
     "text": [
      "Saver added frame number 93\r"
     ]
    },
    {
     "name": "stderr",
     "output_type": "stream",
     "text": [
      "95it [00:21,  4.78it/s]"
     ]
    },
    {
     "name": "stdout",
     "output_type": "stream",
     "text": [
      "Saver added frame number 94\r"
     ]
    },
    {
     "name": "stderr",
     "output_type": "stream",
     "text": [
      "96it [00:21,  4.85it/s]"
     ]
    },
    {
     "name": "stdout",
     "output_type": "stream",
     "text": [
      "Saver added frame number 96\r"
     ]
    },
    {
     "name": "stderr",
     "output_type": "stream",
     "text": [
      "97it [00:21,  4.74it/s]"
     ]
    },
    {
     "name": "stdout",
     "output_type": "stream",
     "text": [
      "Saver added frame number 97\r"
     ]
    },
    {
     "name": "stderr",
     "output_type": "stream",
     "text": [
      "99it [00:21,  4.74it/s]"
     ]
    },
    {
     "name": "stdout",
     "output_type": "stream",
     "text": [
      "Saver added frame number 98\r"
     ]
    },
    {
     "name": "stderr",
     "output_type": "stream",
     "text": [
      "100it [00:22,  4.67it/s]"
     ]
    },
    {
     "name": "stdout",
     "output_type": "stream",
     "text": [
      "Saver added frame number 99\r"
     ]
    },
    {
     "name": "stderr",
     "output_type": "stream",
     "text": [
      "100it [00:22,  4.51it/s]"
     ]
    },
    {
     "name": "stdout",
     "output_type": "stream",
     "text": [
      "Saving results ...\n",
      "SAVED PDF @ file:///C:/Users/alex/tmp_results/tmp_dirs/tmp_fig_save_2M60dOILvw/2022-09-01-11-59-56-AM-808147.pdf\n"
     ]
    },
    {
     "name": "stderr",
     "output_type": "stream",
     "text": [
      "\n"
     ]
    }
   ],
   "source": [
    "dat = np.random.random((10, 100)).T\n",
    "\n",
    "class MyArtist:\n",
    "    def __init__(self):\n",
    "        self.fig, self.ax = plt.subplots()\n",
    "    def animate(self, *datum):\n",
    "        self.ax.cla()\n",
    "        self.ax.plot(*datum)\n",
    "\n",
    "_ = FigureSave.PDFAuto(data=dat, plotter_class=MyArtist)\n"
   ]
  },
  {
   "cell_type": "markdown",
   "id": "87c61eef-fdd1-461d-b24a-aa99746c89b0",
   "metadata": {},
   "source": [
    "# trying out FigureManger\n"
   ]
  },
  {
   "cell_type": "code",
   "execution_count": 13,
   "id": "f4f733e6-3535-4333-b57a-bf874657926f",
   "metadata": {},
   "outputs": [],
   "source": [
    "\n",
    "class ArtistWithManager(FigureManager):\n",
    "    def __init__(self):\n",
    "        super(ArtistWithManager, self).__init__()\n",
    "        self.fig, self.ax = plt.subplots()\n",
    "        self.data = np.random.random((10, 100))\n",
    "        self.idx_cycle = Cycle(max_idx=len(self.data))\n",
    "        self.animate()\n",
    "\n",
    "    def animate(self):\n",
    "        self.ax.cla()\n",
    "        self.ax.plot(self.data[self.idx_cycle.get_index()])\n",
    "\n",
    "q = ArtistWithManager().connect()\n"
   ]
  },
  {
   "cell_type": "markdown",
   "id": "ff8e6147-659c-4cf8-8f00-107adcc640a2",
   "metadata": {},
   "source": [
    "### Performance Note: \n",
    "* clearing the axis and plotting it all over again within animate method is expensive. A much faster thing to do is to only update the lines of the plot in animate. However, this requires `init_func` to create all axes and lines that will later by modified by animate using `line.set_data`"
   ]
  },
  {
   "cell_type": "markdown",
   "id": "62891eec-7abf-45c9-826e-f0fca9eecaeb",
   "metadata": {},
   "source": [
    "# Use visibility Viewer\n"
   ]
  },
  {
   "cell_type": "code",
   "execution_count": 5,
   "id": "1f81675d-71f7-4ded-87e7-8a4a630e401d",
   "metadata": {},
   "outputs": [
    {
     "name": "stdout",
     "output_type": "stream",
     "text": [
      "VViewer added plot number 0\r"
     ]
    }
   ],
   "source": [
    "vv = VisibilityViewer(plt.figure(figsize=(12, 10)))\n",
    "for ix, item in enumerate(np.random.rand(5, 100, 2)):\n",
    "    with plt.style.context(style='seaborn-darkgrid'): ax = vv.fig.add_subplot(); ax.plot(item); ax.set_title(f\"Curve {ix}\")\n",
    "    vv.add([ax])  # use keys 1 and 2 to navigate.\n"
   ]
  },
  {
   "cell_type": "markdown",
   "id": "a989894d-9dc1-459c-b72f-d9401679eed6",
   "metadata": {},
   "source": []
  }
 ],
 "metadata": {
  "kernelspec": {
   "display_name": "Python 3 (ipykernel)",
   "language": "python",
   "name": "python3"
  },
  "language_info": {
   "codemirror_mode": {
    "name": "ipython",
    "version": 3
   },
   "file_extension": ".py",
   "mimetype": "text/x-python",
   "name": "python",
   "nbconvert_exporter": "python",
   "pygments_lexer": "ipython3",
   "version": "3.11.5"
  }
 },
 "nbformat": 4,
 "nbformat_minor": 5
}
