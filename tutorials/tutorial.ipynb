{
 "cells": [
  {
   "cell_type": "markdown",
   "metadata": {},
   "source": [
    "# Welcome to crocodile Tutorial\n",
    "\n",
    "In the next 20 minutes, you're expected to master the use of this friendly library. As an outcome, it will save you hundreds of hours in the future while doing mundane daily tasks, and, your code will be irreducibly succinct.\n",
    "\n",
    "Intrigued? Let's get started\n",
    "\n",
    "First things first, let's ascertain that you have the latest version"
   ]
  },
  {
   "cell_type": "code",
   "execution_count": 3,
   "metadata": {},
   "outputs": [],
   "source": [
    "# !pip install --upgrade crocodile"
   ]
  },
  {
   "cell_type": "markdown",
   "metadata": {},
   "source": [
    "### Always begin your Python files with this import"
   ]
  },
  {
   "cell_type": "code",
   "execution_count": 1,
   "metadata": {},
   "outputs": [],
   "source": [
    "import crocodile.toolbox as tb"
   ]
  },
  {
   "cell_type": "markdown",
   "metadata": {},
   "source": [
    "# Overview\n",
    "\n",
    "We will be covering the following:\n",
    "    \n",
    "1- The `P` class (for Path).\n",
    "\n",
    "2- The `L` class (for List).\n",
    "\n"
   ]
  },
  {
   "cell_type": "markdown",
   "metadata": {},
   "source": [
    "### P Class\n",
    "\n",
    "As a user of Python, you must has experienced the inconvenience of path handling. There is:\n",
    " * `os` module\n",
    " * `glob` module\n",
    " * `sys` module\n",
    " * `shutil` module\n",
    " * `pathlib` module instoduced in Python 3.5.\n",
    " * There is probably more that I'm not aware of.\n",
    " \n",
    "Those are extremely verbose, many are archaic and kept for compatibility and they cost you a lot of time before they give you what you want.\n",
    "\n",
    "##### Solution:\n",
    " \n",
    " `P` class elegantly solves this by converting mere **path strings** to **objects of type `P`**. \n",
    " Strings are good for text parsing and processing, but they are rubbish for path management.\n",
    " \n",
    " `P` object by itself has *All* the necessary methods that could possibly be linked to it, therefore, no need for any other module to help getting things done.\n",
    " \n",
    " Let's give it a try: "
   ]
  },
  {
   "cell_type": "code",
   "execution_count": 4,
   "metadata": {},
   "outputs": [
    {
     "data": {
      "text/plain": [
       "👻NotExist 'file:\\C:\\Users\\aalsaf01\\tmp_results\\tmp_folders\\subsubfolder\\file.txt'"
      ]
     },
     "execution_count": 4,
     "metadata": {},
     "output_type": "execute_result"
    }
   ],
   "source": [
    "# wrap any string with this module to instantiate a `P` object and you are good to go.\n",
    "p = tb.P.home().joinpath(\"tmp_results/tmp_folders/subsubfolder/file.txt\")\n",
    "p"
   ]
  },
  {
   "cell_type": "markdown",
   "metadata": {},
   "source": [
    "Now, what can this `h` object offer to us?\n",
    "\n",
    "Let's see some of its powers. Firstly, let's look at indexing.\n",
    "\n",
    "Question:\n",
    "* Doesn't just make sense that `h[0] = \"folder\"` ? "
   ]
  },
  {
   "cell_type": "code",
   "execution_count": 6,
   "metadata": {},
   "outputs": [
    {
     "data": {
      "text/plain": [
       "📁 'file:\\C:' | 2019-03-19  15:07:21"
      ]
     },
     "execution_count": 6,
     "metadata": {},
     "output_type": "execute_result"
    }
   ],
   "source": [
    "p[0]  # Do you know that the old un-elegant way is: h.parent.parent.parent.parent.parent.parent ?"
   ]
  },
  {
   "cell_type": "code",
   "execution_count": 7,
   "metadata": {},
   "outputs": [
    {
     "data": {
      "text/plain": [
       "📍 Relative 'file.txt'"
      ]
     },
     "execution_count": 7,
     "metadata": {},
     "output_type": "execute_result"
    }
   ],
   "source": [
    "p[-1]  "
   ]
  },
  {
   "cell_type": "code",
   "execution_count": 8,
   "metadata": {},
   "outputs": [
    {
     "data": {
      "text/plain": [
       "📍 Relative 'aalsaf01\\tmp_results\\tmp_folders\\subsubfolder\\file.txt'"
      ]
     },
     "execution_count": 8,
     "metadata": {},
     "output_type": "execute_result"
    }
   ],
   "source": [
    "p[2:]  # slicing!"
   ]
  },
  {
   "cell_type": "code",
   "execution_count": 9,
   "metadata": {},
   "outputs": [
    {
     "data": {
      "text/plain": [
       "👻NotExist 'file:\\C:\\file.txt'"
      ]
     },
     "execution_count": 9,
     "metadata": {},
     "output_type": "execute_result"
    }
   ],
   "source": [
    "p[[0, -1]]  # You did not see that coming ! fancy indexing!"
   ]
  },
  {
   "cell_type": "code",
   "execution_count": 11,
   "metadata": {},
   "outputs": [
    {
     "name": "stdout",
     "output_type": "stream",
     "text": [
      "C:\\Users\\new_name\\tmp_results\\tmp_folders\\subsubfolder\\file.txt\n"
     ]
    }
   ],
   "source": [
    "r = p.switch_by_index(idx=2, val=\"new_name\")\n",
    "print(r)\n"
   ]
  },
  {
   "cell_type": "code",
   "execution_count": 13,
   "metadata": {},
   "outputs": [
    {
     "name": "stdout",
     "output_type": "stream",
     "text": [
      "(📁 'file:\\C:\\Users' | 2022-05-07  14:47:22, 📍 Relative 'aalsaf01\\tmp_results\\tmp_folders\\subsubfolder\\file.txt')\n",
      "(📁 'file:\\C:\\Users\\aalsaf01' | 2022-09-28  16:05:23, 📍 Relative 'tmp_results\\tmp_folders\\subsubfolder\\file.txt')\n"
     ]
    }
   ],
   "source": [
    "print(p.split(index=2))  # split by index\n",
    "print(p.split(at=\"tmp_results\"))  # split by directory name"
   ]
  },
  {
   "cell_type": "markdown",
   "metadata": {},
   "source": [
    "But wait, this path, doesn't even exist!!\n",
    "okay, let's create it\n"
   ]
  },
  {
   "cell_type": "code",
   "execution_count": 14,
   "metadata": {},
   "outputs": [
    {
     "name": "stdout",
     "output_type": "stream",
     "text": [
      "True\n"
     ]
    }
   ],
   "source": [
    "p.create()\n",
    "print(p.exists())"
   ]
  },
  {
   "cell_type": "markdown",
   "metadata": {},
   "source": [
    "If you like the good old methods that provide you with safeguards and checks when creating, then, they're all there. \n",
    "\n",
    "```\n",
    "When developed, the library **never** overrides a method that was shipped with `pathlib.Path`\n",
    "```\n"
   ]
  },
  {
   "cell_type": "code",
   "execution_count": 15,
   "metadata": {},
   "outputs": [
    {
     "ename": "FileExistsError",
     "evalue": "[WinError 183] Cannot create a file when that file already exists: 'C:\\\\Users\\\\aalsaf01\\\\tmp_results\\\\tmp_folders\\\\subsubfolder\\\\file.txt'",
     "output_type": "error",
     "traceback": [
      "\u001b[1;31m---------------------------------------------------------------------------\u001b[0m",
      "\u001b[1;31mFileExistsError\u001b[0m                           Traceback (most recent call last)",
      "\u001b[1;32mc:\\Users\\aalsaf01\\code\\crocodile\\tutorials\\tutorial.ipynb Cell 18\u001b[0m line \u001b[0;36m1\n\u001b[1;32m----> <a href='vscode-notebook-cell:/c%3A/Users/aalsaf01/code/crocodile/tutorials/tutorial.ipynb#X24sZmlsZQ%3D%3D?line=0'>1</a>\u001b[0m p\u001b[39m.\u001b[39;49mmkdir()\n",
      "File \u001b[1;32m~\\AppData\\Local\\Programs\\Python\\Python311\\Lib\\pathlib.py:1116\u001b[0m, in \u001b[0;36mPath.mkdir\u001b[1;34m(self, mode, parents, exist_ok)\u001b[0m\n\u001b[0;32m   1112\u001b[0m \u001b[39m\u001b[39m\u001b[39m\"\"\"\u001b[39;00m\n\u001b[0;32m   1113\u001b[0m \u001b[39mCreate a new directory at this given path.\u001b[39;00m\n\u001b[0;32m   1114\u001b[0m \u001b[39m\"\"\"\u001b[39;00m\n\u001b[0;32m   1115\u001b[0m \u001b[39mtry\u001b[39;00m:\n\u001b[1;32m-> 1116\u001b[0m     os\u001b[39m.\u001b[39;49mmkdir(\u001b[39mself\u001b[39;49m, mode)\n\u001b[0;32m   1117\u001b[0m \u001b[39mexcept\u001b[39;00m \u001b[39mFileNotFoundError\u001b[39;00m:\n\u001b[0;32m   1118\u001b[0m     \u001b[39mif\u001b[39;00m \u001b[39mnot\u001b[39;00m parents \u001b[39mor\u001b[39;00m \u001b[39mself\u001b[39m\u001b[39m.\u001b[39mparent \u001b[39m==\u001b[39m \u001b[39mself\u001b[39m:\n",
      "\u001b[1;31mFileExistsError\u001b[0m: [WinError 183] Cannot create a file when that file already exists: 'C:\\\\Users\\\\aalsaf01\\\\tmp_results\\\\tmp_folders\\\\subsubfolder\\\\file.txt'"
     ]
    }
   ],
   "source": [
    "p.mkdir()"
   ]
  },
  {
   "cell_type": "markdown",
   "metadata": {},
   "source": [
    "Do you like that error above? There you go. Thats the good old `mkdir`"
   ]
  },
  {
   "cell_type": "markdown",
   "metadata": {},
   "source": [
    "In a similar fashion you will find the following:\n",
    "\n",
    "* `delete` will give easy time compared to the existing `unlink` and `rmdir` and other methods.\n",
    "  This will simply **delete**, no matter what, is it a folder? is it a file? is it empty if it is a folder?\n",
    "    don't worry about anything. Just delete\n",
    "    \n",
    "    * There is also `send2trash` from the famous `send2trash` module which sends files to recycle bin.\n",
    "        \n",
    "* `create` is an easy way to do `mkdir` doesn't compain about existence and always creates the childers and parents required.\n",
    "\n",
    "* `search` is an powerful and easy form of `glob` which still exists."
   ]
  },
  {
   "cell_type": "markdown",
   "metadata": {},
   "source": [
    "\n",
    "If you're used to `glob`, it is available as a method, otherwise you can see the `search` method. It takes a minute to learn what it does, so we content ourselves here by just inspecting its docstring"
   ]
  },
  {
   "cell_type": "code",
   "execution_count": 16,
   "metadata": {},
   "outputs": [
    {
     "name": "stdout",
     "output_type": "stream",
     "text": [
      "\u001b[1;31mSignature:\u001b[0m\n",
      " \u001b[0mtb\u001b[0m\u001b[1;33m.\u001b[0m\u001b[0mP\u001b[0m\u001b[1;33m.\u001b[0m\u001b[0msearch\u001b[0m\u001b[1;33m(\u001b[0m\u001b[1;33m\n",
      "\u001b[0m    \u001b[0mself\u001b[0m\u001b[1;33m,\u001b[0m\u001b[1;33m\n",
      "\u001b[0m    \u001b[0mpattern\u001b[0m\u001b[1;33m:\u001b[0m \u001b[0mstr\u001b[0m \u001b[1;33m=\u001b[0m \u001b[1;34m'*'\u001b[0m\u001b[1;33m,\u001b[0m\u001b[1;33m\n",
      "\u001b[0m    \u001b[0mr\u001b[0m\u001b[1;33m:\u001b[0m \u001b[0mbool\u001b[0m \u001b[1;33m=\u001b[0m \u001b[1;32mFalse\u001b[0m\u001b[1;33m,\u001b[0m\u001b[1;33m\n",
      "\u001b[0m    \u001b[0mfiles\u001b[0m\u001b[1;33m:\u001b[0m \u001b[0mbool\u001b[0m \u001b[1;33m=\u001b[0m \u001b[1;32mTrue\u001b[0m\u001b[1;33m,\u001b[0m\u001b[1;33m\n",
      "\u001b[0m    \u001b[0mfolders\u001b[0m\u001b[1;33m:\u001b[0m \u001b[0mbool\u001b[0m \u001b[1;33m=\u001b[0m \u001b[1;32mTrue\u001b[0m\u001b[1;33m,\u001b[0m\u001b[1;33m\n",
      "\u001b[0m    \u001b[0mcompressed\u001b[0m\u001b[1;33m:\u001b[0m \u001b[0mbool\u001b[0m \u001b[1;33m=\u001b[0m \u001b[1;32mFalse\u001b[0m\u001b[1;33m,\u001b[0m\u001b[1;33m\n",
      "\u001b[0m    \u001b[0mdotfiles\u001b[0m\u001b[1;33m:\u001b[0m \u001b[0mbool\u001b[0m \u001b[1;33m=\u001b[0m \u001b[1;32mFalse\u001b[0m\u001b[1;33m,\u001b[0m\u001b[1;33m\n",
      "\u001b[0m    \u001b[0mfilters\u001b[0m\u001b[1;33m:\u001b[0m \u001b[0mOptional\u001b[0m\u001b[1;33m[\u001b[0m\u001b[0mlist\u001b[0m\u001b[1;33m[\u001b[0m\u001b[0mCallable\u001b[0m\u001b[1;33m[\u001b[0m\u001b[1;33m[\u001b[0m\u001b[0mAny\u001b[0m\u001b[1;33m]\u001b[0m\u001b[1;33m,\u001b[0m \u001b[0mbool\u001b[0m\u001b[1;33m]\u001b[0m\u001b[1;33m]\u001b[0m\u001b[1;33m]\u001b[0m \u001b[1;33m=\u001b[0m \u001b[1;32mNone\u001b[0m\u001b[1;33m,\u001b[0m\u001b[1;33m\n",
      "\u001b[0m    \u001b[0mnot_in\u001b[0m\u001b[1;33m:\u001b[0m \u001b[0mOptional\u001b[0m\u001b[1;33m[\u001b[0m\u001b[0mlist\u001b[0m\u001b[1;33m[\u001b[0m\u001b[0mstr\u001b[0m\u001b[1;33m]\u001b[0m\u001b[1;33m]\u001b[0m \u001b[1;33m=\u001b[0m \u001b[1;32mNone\u001b[0m\u001b[1;33m,\u001b[0m\u001b[1;33m\n",
      "\u001b[0m    \u001b[0mexts\u001b[0m\u001b[1;33m:\u001b[0m \u001b[0mOptional\u001b[0m\u001b[1;33m[\u001b[0m\u001b[0mlist\u001b[0m\u001b[1;33m[\u001b[0m\u001b[0mstr\u001b[0m\u001b[1;33m]\u001b[0m\u001b[1;33m]\u001b[0m \u001b[1;33m=\u001b[0m \u001b[1;32mNone\u001b[0m\u001b[1;33m,\u001b[0m\u001b[1;33m\n",
      "\u001b[0m    \u001b[0mwin_order\u001b[0m\u001b[1;33m:\u001b[0m \u001b[0mbool\u001b[0m \u001b[1;33m=\u001b[0m \u001b[1;32mFalse\u001b[0m\u001b[1;33m,\u001b[0m\u001b[1;33m\n",
      "\u001b[0m\u001b[1;33m)\u001b[0m \u001b[1;33m->\u001b[0m \u001b[0mcrocodile\u001b[0m\u001b[1;33m.\u001b[0m\u001b[0mcore\u001b[0m\u001b[1;33m.\u001b[0m\u001b[0mList\u001b[0m\u001b[1;33m[\u001b[0m\u001b[0mForwardRef\u001b[0m\u001b[1;33m(\u001b[0m\u001b[1;34m'P'\u001b[0m\u001b[1;33m)\u001b[0m\u001b[1;33m]\u001b[0m\u001b[1;33m\u001b[0m\u001b[1;33m\u001b[0m\u001b[0m\n",
      "\u001b[1;31mDocstring:\u001b[0m <no docstring>\n",
      "\u001b[1;31mFile:\u001b[0m      c:\\users\\aalsaf01\\code\\crocodile\\myresources\\crocodile\\file_management.py\n",
      "\u001b[1;31mType:\u001b[0m      function"
     ]
    }
   ],
   "source": [
    "? tb.P.search"
   ]
  },
  {
   "cell_type": "code",
   "execution_count": 17,
   "metadata": {},
   "outputs": [
    {
     "name": "stdout",
     "output_type": "stream",
     "text": [
      "C:\\Users\\aalsaf01\\tmp_results\\tmp_folders\\subsubfolder\\file.txt_new\n"
     ]
    }
   ],
   "source": [
    "## Overloading operations \n",
    "# plus symbol: acts like plus for strings, i.e. concatenation.\n",
    "print(p + \"_new\")\n"
   ]
  },
  {
   "cell_type": "code",
   "execution_count": 18,
   "metadata": {},
   "outputs": [
    {
     "data": {
      "text/plain": [
       "👻NotExist 'file:\\C:\\Users\\aalsaf01\\tmp_results\\tmp_folders\\subsubfolder\\file.txt\\haha'"
      ]
     },
     "execution_count": 18,
     "metadata": {},
     "output_type": "execute_result"
    }
   ],
   "source": [
    "# Forward slash OPERATOR: joins paths\n",
    "r = p / \"haha\"\n",
    "# Note: tpis is not the same as the naive \"/\" concatenation which is platform-dependent\n",
    "r = p + \"/\" + \"haha\"\n",
    "# it is actually the same as \n",
    "p.joinpath(\"haha\")"
   ]
  },
  {
   "cell_type": "code",
   "execution_count": 19,
   "metadata": {},
   "outputs": [
    {
     "name": "stdout",
     "output_type": "stream",
     "text": [
      "C:\\Users\\aalsaf01\\tmp_results\\tmp_folders\\subsubfolder\\this_is_a_prefix_file.txt\n",
      "C:\\Users\\aalsaf01\\tmp_results\\tmp_folders\\subsubfolder\\file_this_come_after_name_but_before_suffix.txt\n"
     ]
    }
   ],
   "source": [
    "# Some nifty methods for creating versions of the same file\n",
    "print(p.prepend(\"this_is_a_prefix_\"))\n",
    "print(p.append(\"_this_come_after_name_but_before_suffix\"))\n",
    "# Incredibly useful when creating a variant of an existing file."
   ]
  },
  {
   "cell_type": "markdown",
   "metadata": {},
   "source": [
    "### Conclusion \n",
    "\n",
    " Path Class: Designed with one goal in mind: any operation on paths MUST NOT take more than one line of code.\n",
    "    It offers:\n",
    "    * methods act on the underlying object in the disk drive: move, move_up, copy, encrypt, zip and delete.\n",
    "    * methods act on the path object: parent, joinpath, switch, prepend, append\n",
    "    * attributes of path: stem, trunk, size, date etc.\n",
    "    \n",
    "\n",
    "Have a looksee at the full list of metods:\n",
    "Basically you have comprehensive set of methods to do any of:\n",
    "\n",
    "* Path manipulation.\n",
    "* Searching directories.\n",
    "* Getting files and folders specs, e.g. size and time etc.\n",
    "* File manangement capabilities, e.g. delete, copy, compression of files and folders with one line, to anywhere.\n",
    "\n",
    "Spend the next 30 seconds to inspect the names of the methods, and they will spring to your mind whenever you need them later. Always remember that there is a method to do what you want in one line. If not, and you think it worth a method, please suggest it on Github.\n",
    "\n",
    "#### Note 1: if there are any modules out there that do not understand this Path object, then you can easily convert back to the string with ``str(h)`` or ``h.string`` when needed, on the fly, as you pass the parameter.\n",
    "\n",
    "#### Note 2: The forward slash \"/\" works nicely on all platforms, so use it if writing **path string** manually. \n"
   ]
  },
  {
   "cell_type": "code",
   "execution_count": 20,
   "metadata": {},
   "outputs": [
    {
     "data": {
      "text/plain": [
       "['__add__',\n",
       " '__bytes__',\n",
       " '__call__',\n",
       " '__class__',\n",
       " '__contains__',\n",
       " '__deepcopy__',\n",
       " '__delattr__',\n",
       " '__dict__',\n",
       " '__dir__',\n",
       " '__doc__',\n",
       " '__enter__',\n",
       " '__eq__',\n",
       " '__exit__',\n",
       " '__format__',\n",
       " '__fspath__',\n",
       " '__ge__',\n",
       " '__getattribute__',\n",
       " '__getitem__',\n",
       " '__getstate__',\n",
       " '__gt__',\n",
       " '__hash__',\n",
       " '__init__',\n",
       " '__init_subclass__',\n",
       " '__iter__',\n",
       " '__le__',\n",
       " '__len__',\n",
       " '__lt__',\n",
       " '__module__',\n",
       " '__ne__',\n",
       " '__new__',\n",
       " '__radd__',\n",
       " '__reduce__',\n",
       " '__reduce_ex__',\n",
       " '__repr__',\n",
       " '__rtruediv__',\n",
       " '__setattr__',\n",
       " '__setitem__',\n",
       " '__setstate__',\n",
       " '__sizeof__',\n",
       " '__slots__',\n",
       " '__str__',\n",
       " '__sub__',\n",
       " '__subclasshook__',\n",
       " '__truediv__',\n",
       " '__weakref__',\n",
       " '_cached_cparts',\n",
       " '_cparts',\n",
       " '_drv',\n",
       " '_flavour',\n",
       " '_format_parsed_parts',\n",
       " '_from_parsed_parts',\n",
       " '_from_parts',\n",
       " '_hash',\n",
       " '_make_child',\n",
       " '_make_child_relpath',\n",
       " '_parse_args',\n",
       " '_parts',\n",
       " '_pparts',\n",
       " '_resolve_path',\n",
       " '_return',\n",
       " '_root',\n",
       " '_scandir',\n",
       " '_str',\n",
       " '_type',\n",
       " 'absolute',\n",
       " 'anchor',\n",
       " 'append',\n",
       " 'append_text',\n",
       " 'as_posix',\n",
       " 'as_str',\n",
       " 'as_unix',\n",
       " 'as_uri',\n",
       " 'as_url_obj',\n",
       " 'as_url_str',\n",
       " 'as_zip_path',\n",
       " 'browse',\n",
       " 'cache_from',\n",
       " 'chdir',\n",
       " 'checksum',\n",
       " 'chmod',\n",
       " 'clickable',\n",
       " 'collapseuser',\n",
       " 'copy',\n",
       " 'create',\n",
       " 'cwd',\n",
       " 'decompress',\n",
       " 'decrypt',\n",
       " 'decrypt_n_unzip',\n",
       " 'delete',\n",
       " 'download',\n",
       " 'download_to_memory',\n",
       " 'drive',\n",
       " 'encrypt',\n",
       " 'exists',\n",
       " 'expanduser',\n",
       " 'from_cloud',\n",
       " 'get_env',\n",
       " 'get_num',\n",
       " 'get_remote_path',\n",
       " 'glob',\n",
       " 'group',\n",
       " 'gz',\n",
       " 'hardlink_to',\n",
       " 'home',\n",
       " 'is_absolute',\n",
       " 'is_block_device',\n",
       " 'is_char_device',\n",
       " 'is_dir',\n",
       " 'is_fifo',\n",
       " 'is_file',\n",
       " 'is_mount',\n",
       " 'is_relative_to',\n",
       " 'is_reserved',\n",
       " 'is_socket',\n",
       " 'is_symlink',\n",
       " 'items',\n",
       " 'iterdir',\n",
       " 'joinpath',\n",
       " 'lchmod',\n",
       " 'len',\n",
       " 'link_to',\n",
       " 'listdir',\n",
       " 'lstat',\n",
       " 'match',\n",
       " 'mkdir',\n",
       " 'modify_text',\n",
       " 'move',\n",
       " 'name',\n",
       " 'open',\n",
       " 'owner',\n",
       " 'parent',\n",
       " 'parents',\n",
       " 'parts',\n",
       " 'prepend',\n",
       " 'read_bytes',\n",
       " 'read_text',\n",
       " 'readit',\n",
       " 'readlink',\n",
       " 'rel2cwd',\n",
       " 'rel2home',\n",
       " 'relative_to',\n",
       " 'rename',\n",
       " 'replace',\n",
       " 'resolve',\n",
       " 'rglob',\n",
       " 'rmdir',\n",
       " 'root',\n",
       " 'samefile',\n",
       " 'search',\n",
       " 'send2trash',\n",
       " 'share_on_cloud',\n",
       " 'share_on_network',\n",
       " 'size',\n",
       " 'split',\n",
       " 'start',\n",
       " 'stat',\n",
       " 'stats',\n",
       " 'stem',\n",
       " 'str',\n",
       " 'suffix',\n",
       " 'suffixes',\n",
       " 'switch',\n",
       " 'switch_by_index',\n",
       " 'symlink_from',\n",
       " 'symlink_to',\n",
       " 'sync_to_cloud',\n",
       " 'tar',\n",
       " 'tar_gz',\n",
       " 'tar_xz',\n",
       " 'temp',\n",
       " 'tempdir',\n",
       " 'time',\n",
       " 'tmp',\n",
       " 'tmpdir',\n",
       " 'tmpfile',\n",
       " 'to_cloud',\n",
       " 'to_qr',\n",
       " 'touch',\n",
       " 'tree',\n",
       " 'trunk',\n",
       " 'unbz',\n",
       " 'ungz',\n",
       " 'ungz_untar',\n",
       " 'unlink',\n",
       " 'untar',\n",
       " 'unxz',\n",
       " 'unxz_untar',\n",
       " 'unzip',\n",
       " 'validate_name',\n",
       " 'with_name',\n",
       " 'with_stem',\n",
       " 'with_suffix',\n",
       " 'with_trunk',\n",
       " 'write_bytes',\n",
       " 'write_text',\n",
       " 'xz',\n",
       " 'zip',\n",
       " 'zip_n_encrypt']"
      ]
     },
     "execution_count": 20,
     "metadata": {},
     "output_type": "execute_result"
    }
   ],
   "source": [
    "dir(tb.P)"
   ]
  },
  {
   "cell_type": "markdown",
   "metadata": {},
   "source": [
    "Last but not least, there is: `tb.P.tmp` and its alias `tb.tmp`, an exredibly useful thingy to store temporary files conveniently outside your current coding directory. It creates a folder called `tmp_results` in your home directory. so you can put your results and files there temprarily."
   ]
  },
  {
   "cell_type": "code",
   "execution_count": 21,
   "metadata": {},
   "outputs": [
    {
     "name": "stdout",
     "output_type": "stream",
     "text": [
      "C:\\Users\\aalsaf01\\tmp_results\n"
     ]
    }
   ],
   "source": [
    "print(tb.tmp())"
   ]
  },
  {
   "cell_type": "code",
   "execution_count": 22,
   "metadata": {},
   "outputs": [
    {
     "data": {
      "text/plain": [
       "📄 'file:\\C:\\Users\\aalsaf01\\tmp_results\\txtfile.txt' | 2023-10-15  10:18:58 | 0.0 Mb"
      ]
     },
     "execution_count": 22,
     "metadata": {},
     "output_type": "execute_result"
    }
   ],
   "source": [
    "string = \"This is a string to be saved in a text file\"\n",
    "\n",
    "(tb.tmp() / \"txtfile.txt\").write_text(string)"
   ]
  },
  {
   "cell_type": "markdown",
   "metadata": {},
   "source": [
    "Now let's inspect this directory with our computer file explorer.\n",
    "\n",
    "Did you see the file?"
   ]
  },
  {
   "cell_type": "code",
   "execution_count": 23,
   "metadata": {},
   "outputs": [
    {
     "data": {
      "text/plain": [
       "📁 'file:\\C:\\Users\\aalsaf01\\tmp_results' | 2023-02-21  11:17:40"
      ]
     },
     "execution_count": 23,
     "metadata": {},
     "output_type": "execute_result"
    }
   ],
   "source": [
    "tb.tmp()()  # .explore is a method of `P`, it opens the files and directories using system defaults.\n",
    "# e.g. if you have an image path, you can open it with your default system image viewer with this method."
   ]
  },
  {
   "cell_type": "code",
   "execution_count": null,
   "metadata": {},
   "outputs": [],
   "source": []
  },
  {
   "cell_type": "code",
   "execution_count": null,
   "metadata": {},
   "outputs": [],
   "source": []
  },
  {
   "cell_type": "markdown",
   "metadata": {},
   "source": [
    "# The Struct Module\n",
    "\n",
    "This offers a very convenient way to keep bits and sundry items in a little container with easy to use synatx. More specifically, it extends dict such that it enables accessing items using both dot notation and keys.\n",
    "\n",
    "Let's give it a try:"
   ]
  },
  {
   "cell_type": "code",
   "execution_count": 36,
   "metadata": {},
   "outputs": [
    {
     "data": {
      "text/plain": [
       "True"
      ]
     },
     "execution_count": 36,
     "metadata": {},
     "output_type": "execute_result"
    }
   ],
   "source": [
    "x = tb.Struct(a=2, b=3)  \n",
    "\n",
    "x.a == x['a']"
   ]
  },
  {
   "cell_type": "markdown",
   "metadata": {},
   "source": [
    "## Save Methods\n",
    "\n",
    "Almost certainly, you want to save your hyperparameters to reuse them somewhere else or later, so let's do that"
   ]
  },
  {
   "cell_type": "code",
   "execution_count": 37,
   "metadata": {},
   "outputs": [
    {
     "data": {
      "text/plain": [
       "Struct: [a, b, ]"
      ]
     },
     "execution_count": 37,
     "metadata": {},
     "output_type": "execute_result"
    }
   ],
   "source": [
    "x.save_json(tb.tmp() / \"my_config.json\")"
   ]
  },
  {
   "cell_type": "markdown",
   "metadata": {},
   "source": [
    "Guess what? there's more:\n",
    "\n",
    "* ``save_json``  Excellent for Config files as it provides human readable format.\n",
    "* ``save_npy``  Excellent for numerical data.\n",
    "* ``save_pickle``  Generic.\n",
    "* ``save_mat``  For passing data to Matlab animals.\n",
    "\n",
    "Guess what?\n",
    "\n",
    "These methods are available for all classes, `List`, `Struct` and even `P`. What's more? Well, you can equip all of your own **existing** classes with these capabilities by simply adding to the their inheritance one word ``tb.Base``.\n",
    "\n",
    "Later, to load up anything, you run the class method `from_saved` from any class and pass the path."
   ]
  },
  {
   "cell_type": "markdown",
   "metadata": {},
   "source": [
    "Do you miss the dict? or do you have a class that only understand dict objects?\n",
    "You can convert back to dict on the fly with `x.dict` `x.__dict__`"
   ]
  },
  {
   "cell_type": "code",
   "execution_count": 38,
   "metadata": {},
   "outputs": [
    {
     "data": {
      "text/plain": [
       "{'a': 2, 'b': 3}"
      ]
     },
     "execution_count": 38,
     "metadata": {},
     "output_type": "execute_result"
    }
   ],
   "source": [
    "x.dict"
   ]
  },
  {
   "cell_type": "code",
   "execution_count": 39,
   "metadata": {},
   "outputs": [
    {
     "name": "stdout",
     "output_type": "stream",
     "text": [
      "Structure, with following entries:\n",
      "Key                    Item Type                    Item Details\n",
      "---                    ---------                    ------------\n",
      "a                      int                          2\n",
      "b                      int                          3\n",
      "\n"
     ]
    }
   ],
   "source": [
    "x.print()"
   ]
  },
  {
   "cell_type": "code",
   "execution_count": null,
   "metadata": {},
   "outputs": [],
   "source": []
  },
  {
   "cell_type": "markdown",
   "metadata": {},
   "source": [
    "# The List Module\n",
    "\n",
    "``tb.List`` or its alias `tb.L` offers a class with a single attribute named `list`, which is a Python `list`. The class gives an enhanced Javascript functionality of `toEach` method of arrays.\n",
    "\n",
    "*Use this class whenever you have objects of the same type and you want to containerize them.*"
   ]
  },
  {
   "cell_type": "code",
   "execution_count": 40,
   "metadata": {},
   "outputs": [],
   "source": [
    "a = tb.L([1, 2., 3.2])"
   ]
  },
  {
   "cell_type": "code",
   "execution_count": 42,
   "metadata": {},
   "outputs": [
    {
     "name": "stdout",
     "output_type": "stream",
     "text": [
      " 0- 1 \n",
      " 1- 2.0 \n",
      " 2- 3.2 \n"
     ]
    }
   ],
   "source": [
    "a.print()"
   ]
  },
  {
   "cell_type": "markdown",
   "metadata": {},
   "source": [
    "##### let's do some implicit for loops"
   ]
  },
  {
   "cell_type": "code",
   "execution_count": 44,
   "metadata": {},
   "outputs": [
    {
     "name": "stdout",
     "output_type": "stream",
     "text": [
      " 0- 1 \n",
      " 1- 2 \n",
      " 2- 3 \n"
     ]
    }
   ],
   "source": [
    "a.apply(int).print()  # this is like .toEach() in JS arrays, but it is even better."
   ]
  },
  {
   "cell_type": "markdown",
   "metadata": {},
   "source": [
    "### Let's do some heavy lifting...\n",
    "Did you know that: search results returned by `P` object are more `P` objects containerized in `List` object?\n",
    "\n",
    "\n",
    "This is too much power! `L` and `P` are working together!!"
   ]
  },
  {
   "cell_type": "code",
   "execution_count": 45,
   "metadata": {},
   "outputs": [
    {
     "name": "stdout",
     "output_type": "stream",
     "text": [
      "<class 'crocodile.toolbox.List'>\n"
     ]
    }
   ],
   "source": [
    "results = tb.P.home().search(\"*\")\n",
    "print(type(results))  # it is a `List` Object!"
   ]
  },
  {
   "cell_type": "code",
   "execution_count": 48,
   "metadata": {},
   "outputs": [
    {
     "data": {
      "text/plain": [
       "List object with 37 elements. One example of those elements: \n",
       "P: C:\\Users\\Alex\\3D Objects"
      ]
     },
     "execution_count": 48,
     "metadata": {},
     "output_type": "execute_result"
    }
   ],
   "source": [
    "results"
   ]
  },
  {
   "cell_type": "code",
   "execution_count": null,
   "metadata": {},
   "outputs": [],
   "source": [
    "results.print()  # nice print function if you did not like the __repr__ method which is very succinct."
   ]
  },
  {
   "cell_type": "code",
   "execution_count": 49,
   "metadata": {},
   "outputs": [
    {
     "data": {
      "text/plain": [
       "List object with 37 elements. One example of those elements: \n",
       "datetime.datetime(2020, 12, 9, 12, 12, 16, 990216)"
      ]
     },
     "execution_count": 49,
     "metadata": {},
     "output_type": "execute_result"
    }
   ],
   "source": [
    "results.time()"
   ]
  },
  {
   "cell_type": "markdown",
   "metadata": {},
   "source": [
    "Wait: How did that happen?\n",
    "\n",
    "`time` is a method of `P` that tells what time the file was created.\n",
    "\n",
    "However, the method was run against a `List` object, but this internally called in a for loop over the individual items.\n",
    "\n",
    "In other words, the above is short for `results.apply(lambda x: x.time())`\n"
   ]
  },
  {
   "cell_type": "markdown",
   "metadata": {},
   "source": [
    "## Object Modifications\n",
    "\n",
    "You can manipulate the objects containerized in `L`. The result returned is another `L` which encapsulates the outcome of modification or whatever function applied to the objects, like so:"
   ]
  },
  {
   "cell_type": "code",
   "execution_count": 50,
   "metadata": {},
   "outputs": [
    {
     "data": {
      "text/plain": [
       "List object with 37 elements. One example of those elements: \n",
       "P: Users\\Alex"
      ]
     },
     "execution_count": 50,
     "metadata": {},
     "output_type": "execute_result"
    }
   ],
   "source": [
    "results.apply(lambda x: x[1:3])"
   ]
  },
  {
   "cell_type": "code",
   "execution_count": null,
   "metadata": {},
   "outputs": [],
   "source": []
  },
  {
   "cell_type": "markdown",
   "metadata": {},
   "source": [
    "### TEST!\n",
    "\n",
    "Do you reckon that you're now on top of the library?\n",
    "\n",
    "Yes?\n",
    "\n",
    "Put that assertion to test!\n",
    "\n",
    "To calculate how many lines of code are in `crocodile` so far, we run this"
   ]
  },
  {
   "cell_type": "code",
   "execution_count": 37,
   "metadata": {},
   "outputs": [
    {
     "data": {
      "text/plain": [
       "4530"
      ]
     },
     "execution_count": 37,
     "metadata": {},
     "output_type": "execute_result"
    }
   ],
   "source": [
    "tb.P(tb.__file__).parent.search(\"*.py\").read_text(encoding=\"utf-8\").split(\"\\n\").apply(len).to_numpy().sum()"
   ]
  },
  {
   "cell_type": "markdown",
   "metadata": {},
   "source": [
    "Is it obvious to you what happened there?\n",
    "\n",
    "**Can you write more one-liners like that?**"
   ]
  },
  {
   "cell_type": "markdown",
   "metadata": {},
   "source": [
    "# Log class\n",
    "\n",
    "\"\"\"This class is needed once a project grows beyond simple work. Simple print statements from  dozens of objects will not be useful as the programmer will not easily recognize who\n",
    "      is printing this message, in addition to many other concerns.\n",
    "\n",
    "     Advantages of using instances of this class: You do not need to worry about object pickling process by modifing\n",
    "     the __getstate__ method of the class that will own the logger. This is the case because loggers lose access\n",
    "     to the file logger when unpickled, so it is better to instantiate them again.\n",
    "     Logger can be pickled, but its handlers are lost, so what's the point? no perfect reconstruction.\n",
    "     Additionally, this class keeps track of log files used, append to them if they still exist.\n",
    "\n",
    "     Implementation detail: the design favours composition over inheritence. To counter the inconvenience\n",
    "      of having extra typing to reach the logger, a property `logger` was added to Base class to refer to it.\"\"\""
   ]
  },
  {
   "cell_type": "code",
   "execution_count": null,
   "metadata": {},
   "outputs": [],
   "source": []
  },
  {
   "cell_type": "code",
   "execution_count": null,
   "metadata": {},
   "outputs": [],
   "source": []
  }
 ],
 "metadata": {
  "kernelspec": {
   "display_name": "Python 3 (ipykernel)",
   "language": "python",
   "name": "python3"
  },
  "language_info": {
   "codemirror_mode": {
    "name": "ipython",
    "version": 3
   },
   "file_extension": ".py",
   "mimetype": "text/x-python",
   "name": "python",
   "nbconvert_exporter": "python",
   "pygments_lexer": "ipython3",
   "version": "3.11.5"
  }
 },
 "nbformat": 4,
 "nbformat_minor": 4
}
